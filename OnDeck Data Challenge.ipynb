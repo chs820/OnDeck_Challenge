{
 "cells": [
  {
   "cell_type": "markdown",
   "metadata": {
    "nbpresent": {
     "id": "54b898b7-a4c9-46d7-b7c6-b06342e4fb2d"
    }
   },
   "source": [
    "# OnDeck Data Challenge\n",
    "- Author: Chris Shih"
   ]
  },
  {
   "cell_type": "markdown",
   "metadata": {},
   "source": [
    "## Table of Contents\n",
    "### Part 1: Deduping\n",
    " - [Import the businesses.csv dataset and quickly look at the dataset](#Deduping)\n",
    " - [First Deduping Approach (using only Business Name)](#first_deduping)\n",
    " - [Second Deduping Approach (using Business Name & Postal Code)](#second_deduping)\n",
    " - [Potential Next Steps / Create CSV Pairs file](#next_steps)\n",
    "\n",
    "### Part 2: Measuring Results\n",
    " - [Revenue Reconciliation of Duplicate Records](#part_2)\n",
    " - [Import Email Dataset](#email_dataset) \n",
    " - [Analysis of Messages by Month](#messages_by_month) \n",
    " - [Analysis of Revenue vs. Response Rate](#revenue) \n",
    " - [Methodology / Takeaways](#methodology) \n",
    "\n",
    "### Conclusion\n",
    " - [Conclusions/Next Steps](#conclusion) "
   ]
  },
  {
   "cell_type": "markdown",
   "metadata": {
    "nbpresent": {
     "id": "04c8b11c-cce5-4bd1-afe8-39c9b69f1e5d"
    }
   },
   "source": [
    "<a id='Deduping'></a>\n",
    "# Part 1: Deduping"
   ]
  },
  {
   "cell_type": "code",
   "execution_count": 1,
   "metadata": {
    "collapsed": true,
    "nbpresent": {
     "id": "f6d60e84-b6ce-440c-bf07-9f25dbc4471e"
    }
   },
   "outputs": [],
   "source": [
    "import warnings\n",
    "warnings.filterwarnings(\"ignore\")"
   ]
  },
  {
   "cell_type": "code",
   "execution_count": 2,
   "metadata": {
    "collapsed": true,
    "nbpresent": {
     "id": "b5174449-6862-466f-b669-26dccc19a7f2"
    }
   },
   "outputs": [],
   "source": [
    "import pandas as pd\n",
    "import numpy as np"
   ]
  },
  {
   "cell_type": "code",
   "execution_count": 3,
   "metadata": {
    "collapsed": true,
    "nbpresent": {
     "id": "de772435-8a72-4f6a-9c40-11a02a9dc3aa"
    }
   },
   "outputs": [],
   "source": [
    "businesses = pd.read_csv('businesses.csv')"
   ]
  },
  {
   "cell_type": "markdown",
   "metadata": {
    "nbpresent": {
     "id": "3caaacf2-fb62-4e1a-9cff-595d93c68045"
    }
   },
   "source": [
    "## Quickly look at some of the businesses dataset"
   ]
  },
  {
   "cell_type": "code",
   "execution_count": 4,
   "metadata": {
    "collapsed": false,
    "nbpresent": {
     "id": "8b802609-0cbc-4a34-a6a0-0551a31a4653"
    }
   },
   "outputs": [
    {
     "data": {
      "text/html": [
       "<div>\n",
       "<table border=\"1\" class=\"dataframe\">\n",
       "  <thead>\n",
       "    <tr style=\"text-align: right;\">\n",
       "      <th></th>\n",
       "      <th>id</th>\n",
       "      <th>business_name</th>\n",
       "      <th>street_number</th>\n",
       "      <th>postal_code</th>\n",
       "      <th>phone</th>\n",
       "      <th>revenue</th>\n",
       "      <th>age_of_business</th>\n",
       "    </tr>\n",
       "  </thead>\n",
       "  <tbody>\n",
       "    <tr>\n",
       "      <th>0</th>\n",
       "      <td>55234</td>\n",
       "      <td>HONOLULU AUTOWORKS</td>\n",
       "      <td>NaN</td>\n",
       "      <td>76259</td>\n",
       "      <td>3.372111e+09</td>\n",
       "      <td>1006893.0</td>\n",
       "      <td>3.0</td>\n",
       "    </tr>\n",
       "    <tr>\n",
       "      <th>1</th>\n",
       "      <td>31921</td>\n",
       "      <td>EMETEORS INC</td>\n",
       "      <td>NaN</td>\n",
       "      <td>49483</td>\n",
       "      <td>2.406784e+09</td>\n",
       "      <td>564444.0</td>\n",
       "      <td>12.0</td>\n",
       "    </tr>\n",
       "    <tr>\n",
       "      <th>2</th>\n",
       "      <td>19711</td>\n",
       "      <td>7-Eleven</td>\n",
       "      <td>NaN</td>\n",
       "      <td>64448</td>\n",
       "      <td>8.329000e+09</td>\n",
       "      <td>129895.0</td>\n",
       "      <td>25.0</td>\n",
       "    </tr>\n",
       "    <tr>\n",
       "      <th>3</th>\n",
       "      <td>53575</td>\n",
       "      <td>HILLTOP MAINTENANCE</td>\n",
       "      <td>NaN</td>\n",
       "      <td>87662</td>\n",
       "      <td>1.052236e+09</td>\n",
       "      <td>320152.0</td>\n",
       "      <td>1.0</td>\n",
       "    </tr>\n",
       "    <tr>\n",
       "      <th>4</th>\n",
       "      <td>38480</td>\n",
       "      <td>GAP</td>\n",
       "      <td>NaN</td>\n",
       "      <td>80456</td>\n",
       "      <td>6.580070e+09</td>\n",
       "      <td>230956.0</td>\n",
       "      <td>NaN</td>\n",
       "    </tr>\n",
       "  </tbody>\n",
       "</table>\n",
       "</div>"
      ],
      "text/plain": [
       "      id        business_name  street_number postal_code         phone  \\\n",
       "0  55234   HONOLULU AUTOWORKS            NaN       76259  3.372111e+09   \n",
       "1  31921         EMETEORS INC            NaN       49483  2.406784e+09   \n",
       "2  19711             7-Eleven            NaN       64448  8.329000e+09   \n",
       "3  53575  HILLTOP MAINTENANCE            NaN       87662  1.052236e+09   \n",
       "4  38480                  GAP            NaN       80456  6.580070e+09   \n",
       "\n",
       "     revenue  age_of_business  \n",
       "0  1006893.0              3.0  \n",
       "1   564444.0             12.0  \n",
       "2   129895.0             25.0  \n",
       "3   320152.0              1.0  \n",
       "4   230956.0              NaN  "
      ]
     },
     "execution_count": 4,
     "metadata": {},
     "output_type": "execute_result"
    }
   ],
   "source": [
    "businesses.head()"
   ]
  },
  {
   "cell_type": "code",
   "execution_count": 5,
   "metadata": {
    "collapsed": false,
    "nbpresent": {
     "id": "243bd971-4cfc-4fa7-aa2d-76d1ef60681d"
    },
    "scrolled": true
   },
   "outputs": [
    {
     "data": {
      "text/plain": [
       "business_name\n",
       "#1 KARATE FOR KIDS FAMILY CENTER INC    2\n",
       "(DIV. OF PROBE-RITE, CORP.)             1\n",
       "007 LOCKSMITH                           1\n",
       "1 24 7 PEST CONTROL                     1\n",
       "1 GARAGE DOOR REPAIR                    1\n",
       "1 HR T-SHIRTS TEAM UNIFORM              1\n",
       "1 Hr T-Shirts Team Uniform              1\n",
       "1 STOP PARTS AUTO SALVAGE INC           2\n",
       "1-800-DRYCLEAN                          1\n",
       "10 75 EMERGENCY LIGHTING L L C          1\n",
       "dtype: int64"
      ]
     },
     "execution_count": 5,
     "metadata": {},
     "output_type": "execute_result"
    }
   ],
   "source": [
    "businesses.groupby('business_name').size().head(10)"
   ]
  },
  {
   "cell_type": "code",
   "execution_count": 6,
   "metadata": {
    "collapsed": false,
    "nbpresent": {
     "id": "229161ca-7011-4c10-b6d1-882e82abc7bc"
    }
   },
   "outputs": [
    {
     "data": {
      "text/html": [
       "<div>\n",
       "<table border=\"1\" class=\"dataframe\">\n",
       "  <thead>\n",
       "    <tr style=\"text-align: right;\">\n",
       "      <th></th>\n",
       "      <th>id</th>\n",
       "      <th>business_name</th>\n",
       "      <th>street_number</th>\n",
       "      <th>postal_code</th>\n",
       "      <th>phone</th>\n",
       "      <th>revenue</th>\n",
       "      <th>age_of_business</th>\n",
       "    </tr>\n",
       "  </thead>\n",
       "  <tbody>\n",
       "    <tr>\n",
       "      <th>14562</th>\n",
       "      <td>78029</td>\n",
       "      <td>#1 KARATE FOR KIDS FAMILY CENTER INC</td>\n",
       "      <td>NaN</td>\n",
       "      <td>00382</td>\n",
       "      <td>2.507675e+09</td>\n",
       "      <td>185101.0</td>\n",
       "      <td>15.0</td>\n",
       "    </tr>\n",
       "    <tr>\n",
       "      <th>23476</th>\n",
       "      <td>69500</td>\n",
       "      <td>#1 KARATE FOR KIDS FAMILY CENTER INC</td>\n",
       "      <td>NaN</td>\n",
       "      <td>00382</td>\n",
       "      <td>2.507675e+09</td>\n",
       "      <td>140947.0</td>\n",
       "      <td>NaN</td>\n",
       "    </tr>\n",
       "  </tbody>\n",
       "</table>\n",
       "</div>"
      ],
      "text/plain": [
       "          id                         business_name  street_number postal_code  \\\n",
       "14562  78029  #1 KARATE FOR KIDS FAMILY CENTER INC            NaN       00382   \n",
       "23476  69500  #1 KARATE FOR KIDS FAMILY CENTER INC            NaN       00382   \n",
       "\n",
       "              phone   revenue  age_of_business  \n",
       "14562  2.507675e+09  185101.0             15.0  \n",
       "23476  2.507675e+09  140947.0              NaN  "
      ]
     },
     "execution_count": 6,
     "metadata": {},
     "output_type": "execute_result"
    }
   ],
   "source": [
    "businesses[businesses['business_name']=='#1 KARATE FOR KIDS FAMILY CENTER INC']"
   ]
  },
  {
   "cell_type": "markdown",
   "metadata": {
    "nbpresent": {
     "id": "d560d3f2-b461-4b89-bae8-f67b7411067d"
    }
   },
   "source": [
    "- After quick visual inspection it seems as if several duplicates either have the **same business name** or are the **same and capitalized**\n",
    "- There are also several business names that were [NOT PROVIDED] and should likely be either removed or analyzed separately (in Part II)  \n",
    "\n",
    "---"
   ]
  },
  {
   "cell_type": "markdown",
   "metadata": {
    "nbpresent": {
     "id": "ca26420b-98f6-4ea1-a57e-00eaaef28fd7"
    }
   },
   "source": [
    "<a id='first_deduping'></a>\n",
    "## First Deduping Approach  \n",
    "1. **Create a \"uniform\" format** for business names (i.e. all lowercase letters and remove llc/co/inc)\n",
    "2. **Identify** the unique business names in the dataset\n",
    "3. **Link** each unqiue business name with its matching IDs"
   ]
  },
  {
   "cell_type": "markdown",
   "metadata": {
    "nbpresent": {
     "id": "9c95b2b6-b846-4fd6-aef9-af286b408a39"
    }
   },
   "source": [
    "### Create a function to clean business names  \n",
    "- Convert all business names to lowercase\n",
    "- Remove leading/trailing non-alphanumeric characters\n",
    "- Use regluar expressions to remove llc, l l c, inc, co, appostrophes, periods, commas , or slashes\n",
    "- Strip extra spaces\n"
   ]
  },
  {
   "cell_type": "code",
   "execution_count": 7,
   "metadata": {
    "collapsed": true,
    "nbpresent": {
     "id": "27b28c76-17e0-4609-a1d0-d95af7e1135b"
    }
   },
   "outputs": [],
   "source": [
    "import re\n",
    "\n",
    "def clean(name):\n",
    "    # change all business names to lowercase\n",
    "    nm = name.lower()\n",
    "    \n",
    "    # remove leading non-alphanumeric characters\n",
    "    # this assumes that businesses are not differentiated by leading punctuation\n",
    "    i = 0\n",
    "    for c in nm:\n",
    "        if not c.isalnum():\n",
    "            i+=1\n",
    "            continue\n",
    "        nm = nm[i:]\n",
    "        break\n",
    "        \n",
    "    # same thing for trailing non-alphanumeric characters\n",
    "    i = 0\n",
    "    temp_str = nm[::-1]\n",
    "    for c in temp_str:\n",
    "        if not c.isalnum():\n",
    "            i+=1\n",
    "            continue\n",
    "        nm = temp_str[i:][::-1]\n",
    "        break\n",
    "\n",
    "    # remove llc, inc, co, apostrophes\n",
    "    # this might group companies differentiated by llc vs. inc\n",
    "    # however, it seems more likely that companies simply forget to write llc, inc, co\n",
    "    replace_patterns = [r'\\'',r'\\.',r'\\,',r'/',r' llc\\b',r' l l c\\b',r' inc\\b',r' co\\b']\n",
    "    for i in replace_patterns:\n",
    "        nm = re.sub(i,'',nm)\n",
    "    \n",
    "    #strip spaces\n",
    "    nm = nm.strip()\n",
    "    \n",
    "    return nm"
   ]
  },
  {
   "cell_type": "code",
   "execution_count": 8,
   "metadata": {
    "collapsed": false,
    "nbpresent": {
     "id": "74918f19-94b6-4f82-a1bf-48987b0fb262"
    }
   },
   "outputs": [],
   "source": [
    "# create dictionary of \"cleaned\" business names and their corresponding IDs\n",
    "\n",
    "from collections import defaultdict\n",
    "import csv\n",
    "\n",
    "dupe_list = defaultdict(list)\n",
    "\n",
    "with open('businesses.csv') as fhand:\n",
    "    reader = csv.reader(fhand, delimiter=',', quotechar='\\\"')\n",
    "    header_line = next(reader)\n",
    "    for data in reader:\n",
    "        bus_nm = clean(data[1])\n",
    "        dupe_list[bus_nm].append(int(data[0].strip()))\n"
   ]
  },
  {
   "cell_type": "code",
   "execution_count": 9,
   "metadata": {
    "collapsed": false,
    "nbpresent": {
     "id": "faad2fd6-7aba-47bc-862d-0250149b524c"
    }
   },
   "outputs": [],
   "source": [
    "# prepare to view output of dupe code\n",
    "# sort dupes by business name and by number of IDs\n",
    "dupes = []\n",
    "dupe_sum = []\n",
    "\n",
    "for k,v in dupe_list.items():\n",
    "    dupes.append(str(k)+'|'+str(v))\n",
    "    dupe_sum.append([len(v),str(k)])"
   ]
  },
  {
   "cell_type": "markdown",
   "metadata": {
    "nbpresent": {
     "id": "26319c1a-4e63-494f-950c-12fe51dc3d44"
    }
   },
   "source": [
    "### Check Initial Deduping\n",
    "Order cleaned business names and look for any obvious duplicates missed"
   ]
  },
  {
   "cell_type": "code",
   "execution_count": 10,
   "metadata": {
    "collapsed": false,
    "nbpresent": {
     "id": "5c6916e1-f833-4ae1-91ef-44fb2e0d3a75"
    }
   },
   "outputs": [
    {
     "name": "stdout",
     "output_type": "stream",
     "text": [
      "007 locksmith|[30551]\n",
      "1 24 7 pest control|[48006]\n",
      "1 garage door repair|[11558]\n",
      "1 hr t-shirts team uniform|[66900, 58154]\n",
      "1 karate for kids family center|[78029, 69500]\n",
      "1 stop parts auto salvage|[52603, 22845]\n",
      "1-800-dryclean|[95094]\n",
      "10 75 emergency lighting|[37251, 72076]\n",
      "10 key accounting & fncl svc|[15030, 60218]\n",
      "100 west hair studio|[91712]\n",
      "1004 waterloo|[89360]\n",
      "101 mower mart|[71546, 67330]\n",
      "1022 south shady grove|[35638]\n",
      "1068 curry rd|[23614, 93950]\n",
      "115 truck stop|[33637, 62021]\n"
     ]
    }
   ],
   "source": [
    "dupes.sort()\n",
    "i = 0\n",
    "for d in dupes:\n",
    "    if i >= 15: break\n",
    "    print(d)\n",
    "    i+=1"
   ]
  },
  {
   "cell_type": "markdown",
   "metadata": {
    "nbpresent": {
     "id": "f428e623-4fc0-435a-ac9c-08d2826a57a1"
    }
   },
   "source": [
    "### Note:\n",
    "Check out a few examples, incorporating the rest of the data we have about the businesses"
   ]
  },
  {
   "cell_type": "code",
   "execution_count": 11,
   "metadata": {
    "collapsed": false,
    "nbpresent": {
     "id": "77304d58-585d-4e0b-94aa-08c526516ce2"
    }
   },
   "outputs": [
    {
     "data": {
      "text/html": [
       "<div>\n",
       "<table border=\"1\" class=\"dataframe\">\n",
       "  <thead>\n",
       "    <tr style=\"text-align: right;\">\n",
       "      <th></th>\n",
       "      <th>id</th>\n",
       "      <th>business_name</th>\n",
       "      <th>street_number</th>\n",
       "      <th>postal_code</th>\n",
       "      <th>phone</th>\n",
       "      <th>revenue</th>\n",
       "      <th>age_of_business</th>\n",
       "    </tr>\n",
       "  </thead>\n",
       "  <tbody>\n",
       "    <tr>\n",
       "      <th>2072</th>\n",
       "      <td>95881</td>\n",
       "      <td>Tuffy Auto Svc Ctr Llc</td>\n",
       "      <td>3760.0</td>\n",
       "      <td>87810</td>\n",
       "      <td>NaN</td>\n",
       "      <td>797500.0</td>\n",
       "      <td>14.0</td>\n",
       "    </tr>\n",
       "    <tr>\n",
       "      <th>10267</th>\n",
       "      <td>43060</td>\n",
       "      <td>TUFFY AUTO SVC CTR</td>\n",
       "      <td>NaN</td>\n",
       "      <td>01642</td>\n",
       "      <td>NaN</td>\n",
       "      <td>179462.0</td>\n",
       "      <td>14.0</td>\n",
       "    </tr>\n",
       "    <tr>\n",
       "      <th>17012</th>\n",
       "      <td>40650</td>\n",
       "      <td>TUFFY AUTO SVC CTR</td>\n",
       "      <td>NaN</td>\n",
       "      <td>87810</td>\n",
       "      <td>NaN</td>\n",
       "      <td>666968.0</td>\n",
       "      <td>NaN</td>\n",
       "    </tr>\n",
       "    <tr>\n",
       "      <th>22245</th>\n",
       "      <td>96061</td>\n",
       "      <td>Tuffy Auto Svc Ctr Inc</td>\n",
       "      <td>NaN</td>\n",
       "      <td>01642</td>\n",
       "      <td>2.268492e+09</td>\n",
       "      <td>217223.0</td>\n",
       "      <td>9.0</td>\n",
       "    </tr>\n",
       "  </tbody>\n",
       "</table>\n",
       "</div>"
      ],
      "text/plain": [
       "          id           business_name  street_number postal_code         phone  \\\n",
       "2072   95881  Tuffy Auto Svc Ctr Llc         3760.0       87810           NaN   \n",
       "10267  43060      TUFFY AUTO SVC CTR            NaN       01642           NaN   \n",
       "17012  40650      TUFFY AUTO SVC CTR            NaN       87810           NaN   \n",
       "22245  96061  Tuffy Auto Svc Ctr Inc            NaN       01642  2.268492e+09   \n",
       "\n",
       "        revenue  age_of_business  \n",
       "2072   797500.0             14.0  \n",
       "10267  179462.0             14.0  \n",
       "17012  666968.0              NaN  \n",
       "22245  217223.0              9.0  "
      ]
     },
     "execution_count": 11,
     "metadata": {},
     "output_type": "execute_result"
    }
   ],
   "source": [
    "businesses[businesses['id'].isin(dupe_list['tuffy auto svc ctr'])]"
   ]
  },
  {
   "cell_type": "code",
   "execution_count": 12,
   "metadata": {
    "collapsed": false,
    "nbpresent": {
     "id": "f11e38f3-8ba7-4b6e-b1b7-30c92c195f65"
    }
   },
   "outputs": [
    {
     "data": {
      "text/html": [
       "<div>\n",
       "<table border=\"1\" class=\"dataframe\">\n",
       "  <thead>\n",
       "    <tr style=\"text-align: right;\">\n",
       "      <th></th>\n",
       "      <th>id</th>\n",
       "      <th>business_name</th>\n",
       "      <th>street_number</th>\n",
       "      <th>postal_code</th>\n",
       "      <th>phone</th>\n",
       "      <th>revenue</th>\n",
       "      <th>age_of_business</th>\n",
       "    </tr>\n",
       "  </thead>\n",
       "  <tbody>\n",
       "    <tr>\n",
       "      <th>2642</th>\n",
       "      <td>55310</td>\n",
       "      <td>ZOUP FRESH SOUP COMPANY</td>\n",
       "      <td>NaN</td>\n",
       "      <td>82408</td>\n",
       "      <td>NaN</td>\n",
       "      <td>910428.0</td>\n",
       "      <td>2.0</td>\n",
       "    </tr>\n",
       "    <tr>\n",
       "      <th>29789</th>\n",
       "      <td>98904</td>\n",
       "      <td>ZOUP FRESH SOUP COMPANY</td>\n",
       "      <td>NaN</td>\n",
       "      <td>82408</td>\n",
       "      <td>NaN</td>\n",
       "      <td>NaN</td>\n",
       "      <td>NaN</td>\n",
       "    </tr>\n",
       "  </tbody>\n",
       "</table>\n",
       "</div>"
      ],
      "text/plain": [
       "          id            business_name  street_number postal_code  phone  \\\n",
       "2642   55310  ZOUP FRESH SOUP COMPANY            NaN       82408    NaN   \n",
       "29789  98904  ZOUP FRESH SOUP COMPANY            NaN       82408    NaN   \n",
       "\n",
       "        revenue  age_of_business  \n",
       "2642   910428.0              2.0  \n",
       "29789       NaN              NaN  "
      ]
     },
     "execution_count": 12,
     "metadata": {},
     "output_type": "execute_result"
    }
   ],
   "source": [
    "businesses[businesses['id'].isin(dupe_list['zoup fresh soup company'])]"
   ]
  },
  {
   "cell_type": "code",
   "execution_count": 13,
   "metadata": {
    "collapsed": false,
    "nbpresent": {
     "id": "fd2fd7d3-21c0-4f7c-a467-9cb60a31567f"
    }
   },
   "outputs": [
    {
     "data": {
      "text/html": [
       "<div>\n",
       "<table border=\"1\" class=\"dataframe\">\n",
       "  <thead>\n",
       "    <tr style=\"text-align: right;\">\n",
       "      <th></th>\n",
       "      <th>id</th>\n",
       "      <th>business_name</th>\n",
       "      <th>street_number</th>\n",
       "      <th>postal_code</th>\n",
       "      <th>phone</th>\n",
       "      <th>revenue</th>\n",
       "      <th>age_of_business</th>\n",
       "    </tr>\n",
       "  </thead>\n",
       "  <tbody>\n",
       "    <tr>\n",
       "      <th>1192</th>\n",
       "      <td>66900</td>\n",
       "      <td>1 Hr T-Shirts Team Uniform</td>\n",
       "      <td>NaN</td>\n",
       "      <td>74485</td>\n",
       "      <td>NaN</td>\n",
       "      <td>199081.0</td>\n",
       "      <td>3.0</td>\n",
       "    </tr>\n",
       "    <tr>\n",
       "      <th>17236</th>\n",
       "      <td>58154</td>\n",
       "      <td>1 HR T-SHIRTS TEAM UNIFORM</td>\n",
       "      <td>NaN</td>\n",
       "      <td>74485</td>\n",
       "      <td>108925645.0</td>\n",
       "      <td>311080.0</td>\n",
       "      <td>4.0</td>\n",
       "    </tr>\n",
       "  </tbody>\n",
       "</table>\n",
       "</div>"
      ],
      "text/plain": [
       "          id               business_name  street_number postal_code  \\\n",
       "1192   66900  1 Hr T-Shirts Team Uniform            NaN       74485   \n",
       "17236  58154  1 HR T-SHIRTS TEAM UNIFORM            NaN       74485   \n",
       "\n",
       "             phone   revenue  age_of_business  \n",
       "1192           NaN  199081.0              3.0  \n",
       "17236  108925645.0  311080.0              4.0  "
      ]
     },
     "execution_count": 13,
     "metadata": {},
     "output_type": "execute_result"
    }
   ],
   "source": [
    "businesses[businesses['id'].isin(dupe_list['1 hr t-shirts team uniform'])]"
   ]
  },
  {
   "cell_type": "code",
   "execution_count": 14,
   "metadata": {
    "collapsed": false,
    "nbpresent": {
     "id": "d3804eb9-2665-4ab6-bf9f-61a095dc847d"
    }
   },
   "outputs": [
    {
     "data": {
      "text/html": [
       "<div>\n",
       "<table border=\"1\" class=\"dataframe\">\n",
       "  <thead>\n",
       "    <tr style=\"text-align: right;\">\n",
       "      <th></th>\n",
       "      <th>id</th>\n",
       "      <th>business_name</th>\n",
       "      <th>street_number</th>\n",
       "      <th>postal_code</th>\n",
       "      <th>phone</th>\n",
       "      <th>revenue</th>\n",
       "      <th>age_of_business</th>\n",
       "    </tr>\n",
       "  </thead>\n",
       "  <tbody>\n",
       "    <tr>\n",
       "      <th>14562</th>\n",
       "      <td>78029</td>\n",
       "      <td>#1 KARATE FOR KIDS FAMILY CENTER INC</td>\n",
       "      <td>NaN</td>\n",
       "      <td>00382</td>\n",
       "      <td>2.507675e+09</td>\n",
       "      <td>185101.0</td>\n",
       "      <td>15.0</td>\n",
       "    </tr>\n",
       "    <tr>\n",
       "      <th>23476</th>\n",
       "      <td>69500</td>\n",
       "      <td>#1 KARATE FOR KIDS FAMILY CENTER INC</td>\n",
       "      <td>NaN</td>\n",
       "      <td>00382</td>\n",
       "      <td>2.507675e+09</td>\n",
       "      <td>140947.0</td>\n",
       "      <td>NaN</td>\n",
       "    </tr>\n",
       "  </tbody>\n",
       "</table>\n",
       "</div>"
      ],
      "text/plain": [
       "          id                         business_name  street_number postal_code  \\\n",
       "14562  78029  #1 KARATE FOR KIDS FAMILY CENTER INC            NaN       00382   \n",
       "23476  69500  #1 KARATE FOR KIDS FAMILY CENTER INC            NaN       00382   \n",
       "\n",
       "              phone   revenue  age_of_business  \n",
       "14562  2.507675e+09  185101.0             15.0  \n",
       "23476  2.507675e+09  140947.0              NaN  "
      ]
     },
     "execution_count": 14,
     "metadata": {},
     "output_type": "execute_result"
    }
   ],
   "source": [
    "businesses[businesses['id'].isin(dupe_list['1 karate for kids family center'])]"
   ]
  },
  {
   "cell_type": "code",
   "execution_count": 15,
   "metadata": {
    "collapsed": false,
    "nbpresent": {
     "id": "621d9ebf-91b6-45a5-9cb5-7c8ed505ff67"
    }
   },
   "outputs": [
    {
     "data": {
      "text/html": [
       "<div>\n",
       "<table border=\"1\" class=\"dataframe\">\n",
       "  <thead>\n",
       "    <tr style=\"text-align: right;\">\n",
       "      <th></th>\n",
       "      <th>id</th>\n",
       "      <th>business_name</th>\n",
       "      <th>street_number</th>\n",
       "      <th>postal_code</th>\n",
       "      <th>phone</th>\n",
       "      <th>revenue</th>\n",
       "      <th>age_of_business</th>\n",
       "    </tr>\n",
       "  </thead>\n",
       "  <tbody>\n",
       "    <tr>\n",
       "      <th>6161</th>\n",
       "      <td>91192</td>\n",
       "      <td>NOODLES &amp; CO</td>\n",
       "      <td>NaN</td>\n",
       "      <td>14640</td>\n",
       "      <td>NaN</td>\n",
       "      <td>759087.0</td>\n",
       "      <td>17.0</td>\n",
       "    </tr>\n",
       "    <tr>\n",
       "      <th>14183</th>\n",
       "      <td>13571</td>\n",
       "      <td>Noodles &amp; Co Llc</td>\n",
       "      <td>NaN</td>\n",
       "      <td>14640</td>\n",
       "      <td>7.619342e+09</td>\n",
       "      <td>1000559.0</td>\n",
       "      <td>16.0</td>\n",
       "    </tr>\n",
       "    <tr>\n",
       "      <th>19476</th>\n",
       "      <td>30789</td>\n",
       "      <td>NOODLES &amp; CO</td>\n",
       "      <td>NaN</td>\n",
       "      <td>24318</td>\n",
       "      <td>7.948911e+09</td>\n",
       "      <td>NaN</td>\n",
       "      <td>11.0</td>\n",
       "    </tr>\n",
       "  </tbody>\n",
       "</table>\n",
       "</div>"
      ],
      "text/plain": [
       "          id     business_name  street_number postal_code         phone  \\\n",
       "6161   91192      NOODLES & CO            NaN       14640           NaN   \n",
       "14183  13571  Noodles & Co Llc            NaN       14640  7.619342e+09   \n",
       "19476  30789      NOODLES & CO            NaN       24318  7.948911e+09   \n",
       "\n",
       "         revenue  age_of_business  \n",
       "6161    759087.0             17.0  \n",
       "14183  1000559.0             16.0  \n",
       "19476        NaN             11.0  "
      ]
     },
     "execution_count": 15,
     "metadata": {},
     "output_type": "execute_result"
    }
   ],
   "source": [
    "businesses[businesses['id'].isin(dupe_list['noodles &'])]"
   ]
  },
  {
   "cell_type": "code",
   "execution_count": 16,
   "metadata": {
    "collapsed": false,
    "nbpresent": {
     "id": "b69269f3-1ede-4270-abe7-5cf1a32aa595"
    }
   },
   "outputs": [
    {
     "data": {
      "text/html": [
       "<div>\n",
       "<table border=\"1\" class=\"dataframe\">\n",
       "  <thead>\n",
       "    <tr style=\"text-align: right;\">\n",
       "      <th></th>\n",
       "      <th>id</th>\n",
       "      <th>business_name</th>\n",
       "      <th>street_number</th>\n",
       "      <th>postal_code</th>\n",
       "      <th>phone</th>\n",
       "      <th>revenue</th>\n",
       "      <th>age_of_business</th>\n",
       "    </tr>\n",
       "  </thead>\n",
       "  <tbody>\n",
       "    <tr>\n",
       "      <th>1541</th>\n",
       "      <td>1573</td>\n",
       "      <td>RITE AID</td>\n",
       "      <td>NaN</td>\n",
       "      <td>51552</td>\n",
       "      <td>3.526689e+09</td>\n",
       "      <td>403665.0</td>\n",
       "      <td>NaN</td>\n",
       "    </tr>\n",
       "    <tr>\n",
       "      <th>26743</th>\n",
       "      <td>45834</td>\n",
       "      <td>Rite Aid</td>\n",
       "      <td>2287.0</td>\n",
       "      <td>51552</td>\n",
       "      <td>3.526689e+09</td>\n",
       "      <td>447528.0</td>\n",
       "      <td>5.0</td>\n",
       "    </tr>\n",
       "    <tr>\n",
       "      <th>27259</th>\n",
       "      <td>12897</td>\n",
       "      <td>RITE AID</td>\n",
       "      <td>NaN</td>\n",
       "      <td>17146</td>\n",
       "      <td>2.409221e+09</td>\n",
       "      <td>182124.0</td>\n",
       "      <td>NaN</td>\n",
       "    </tr>\n",
       "  </tbody>\n",
       "</table>\n",
       "</div>"
      ],
      "text/plain": [
       "          id business_name  street_number postal_code         phone   revenue  \\\n",
       "1541    1573      RITE AID            NaN       51552  3.526689e+09  403665.0   \n",
       "26743  45834      Rite Aid         2287.0       51552  3.526689e+09  447528.0   \n",
       "27259  12897      RITE AID            NaN       17146  2.409221e+09  182124.0   \n",
       "\n",
       "       age_of_business  \n",
       "1541               NaN  \n",
       "26743              5.0  \n",
       "27259              NaN  "
      ]
     },
     "execution_count": 16,
     "metadata": {},
     "output_type": "execute_result"
    }
   ],
   "source": [
    "businesses[businesses['id'].isin(dupe_list['rite aid'])]"
   ]
  },
  {
   "cell_type": "markdown",
   "metadata": {
    "nbpresent": {
     "id": "a6a0bddc-2ddd-4750-a602-3c6011407113"
    }
   },
   "source": [
    "### Note:\n",
    "Interesting...aside from business name, it appears that **postal_code** is a good indicator of duplicates. Perhaps the system did not recognize the same business already existed in the dataset when updating (revenues seem to be somewhat similar among stores with the same postal_code)"
   ]
  },
  {
   "cell_type": "code",
   "execution_count": 17,
   "metadata": {
    "collapsed": false,
    "nbpresent": {
     "id": "c15a0892-e132-46e2-af94-0a12fa38f788"
    },
    "scrolled": true
   },
   "outputs": [
    {
     "data": {
      "text/html": [
       "<div>\n",
       "<table border=\"1\" class=\"dataframe\">\n",
       "  <thead>\n",
       "    <tr style=\"text-align: right;\">\n",
       "      <th></th>\n",
       "      <th>id</th>\n",
       "      <th>business_name</th>\n",
       "      <th>street_number</th>\n",
       "      <th>postal_code</th>\n",
       "      <th>phone</th>\n",
       "      <th>revenue</th>\n",
       "      <th>age_of_business</th>\n",
       "    </tr>\n",
       "  </thead>\n",
       "  <tbody>\n",
       "    <tr>\n",
       "      <th>338</th>\n",
       "      <td>51366</td>\n",
       "      <td>MCDONALD'S</td>\n",
       "      <td>NaN</td>\n",
       "      <td>87471</td>\n",
       "      <td>3.599690e+09</td>\n",
       "      <td>302630.0</td>\n",
       "      <td>2.0</td>\n",
       "    </tr>\n",
       "    <tr>\n",
       "      <th>583</th>\n",
       "      <td>92524</td>\n",
       "      <td>MCDONALD'S</td>\n",
       "      <td>NaN</td>\n",
       "      <td>70745</td>\n",
       "      <td>2.058111e+09</td>\n",
       "      <td>244633.0</td>\n",
       "      <td>NaN</td>\n",
       "    </tr>\n",
       "    <tr>\n",
       "      <th>639</th>\n",
       "      <td>11631</td>\n",
       "      <td>MCDONALDS</td>\n",
       "      <td>NaN</td>\n",
       "      <td>93146</td>\n",
       "      <td>NaN</td>\n",
       "      <td>1098298.0</td>\n",
       "      <td>10.0</td>\n",
       "    </tr>\n",
       "    <tr>\n",
       "      <th>1431</th>\n",
       "      <td>25558</td>\n",
       "      <td>MCDONALD'S</td>\n",
       "      <td>NaN</td>\n",
       "      <td>78518</td>\n",
       "      <td>8.532115e+09</td>\n",
       "      <td>NaN</td>\n",
       "      <td>NaN</td>\n",
       "    </tr>\n",
       "    <tr>\n",
       "      <th>1976</th>\n",
       "      <td>56878</td>\n",
       "      <td>MCDONALD'S</td>\n",
       "      <td>NaN</td>\n",
       "      <td>48816</td>\n",
       "      <td>1.493681e+09</td>\n",
       "      <td>668735.0</td>\n",
       "      <td>13.0</td>\n",
       "    </tr>\n",
       "    <tr>\n",
       "      <th>4258</th>\n",
       "      <td>56990</td>\n",
       "      <td>MCDONALD'S</td>\n",
       "      <td>NaN</td>\n",
       "      <td>59481</td>\n",
       "      <td>9.591914e+09</td>\n",
       "      <td>411384.0</td>\n",
       "      <td>10.0</td>\n",
       "    </tr>\n",
       "    <tr>\n",
       "      <th>4381</th>\n",
       "      <td>82221</td>\n",
       "      <td>MCDONALD'S</td>\n",
       "      <td>NaN</td>\n",
       "      <td>49836</td>\n",
       "      <td>7.907618e+09</td>\n",
       "      <td>1021841.0</td>\n",
       "      <td>19.0</td>\n",
       "    </tr>\n",
       "    <tr>\n",
       "      <th>5217</th>\n",
       "      <td>94865</td>\n",
       "      <td>MCDONALD'S</td>\n",
       "      <td>NaN</td>\n",
       "      <td>71516</td>\n",
       "      <td>2.323663e+09</td>\n",
       "      <td>151333.0</td>\n",
       "      <td>12.0</td>\n",
       "    </tr>\n",
       "    <tr>\n",
       "      <th>5227</th>\n",
       "      <td>98880</td>\n",
       "      <td>MCDONALD'S</td>\n",
       "      <td>NaN</td>\n",
       "      <td>12426</td>\n",
       "      <td>9.489085e+09</td>\n",
       "      <td>NaN</td>\n",
       "      <td>1.0</td>\n",
       "    </tr>\n",
       "    <tr>\n",
       "      <th>6807</th>\n",
       "      <td>34108</td>\n",
       "      <td>MCDONALD'S</td>\n",
       "      <td>NaN</td>\n",
       "      <td>24555</td>\n",
       "      <td>4.099466e+08</td>\n",
       "      <td>335651.0</td>\n",
       "      <td>11.0</td>\n",
       "    </tr>\n",
       "    <tr>\n",
       "      <th>9386</th>\n",
       "      <td>37288</td>\n",
       "      <td>MCDONALD'S</td>\n",
       "      <td>NaN</td>\n",
       "      <td>34885</td>\n",
       "      <td>6.858369e+09</td>\n",
       "      <td>252520.0</td>\n",
       "      <td>NaN</td>\n",
       "    </tr>\n",
       "    <tr>\n",
       "      <th>9587</th>\n",
       "      <td>38302</td>\n",
       "      <td>MCDONALD'S</td>\n",
       "      <td>NaN</td>\n",
       "      <td>88347</td>\n",
       "      <td>4.970515e+07</td>\n",
       "      <td>370407.0</td>\n",
       "      <td>17.0</td>\n",
       "    </tr>\n",
       "    <tr>\n",
       "      <th>10000</th>\n",
       "      <td>64557</td>\n",
       "      <td>MCDONALD'S</td>\n",
       "      <td>NaN</td>\n",
       "      <td>19232</td>\n",
       "      <td>1.319315e+09</td>\n",
       "      <td>403651.0</td>\n",
       "      <td>NaN</td>\n",
       "    </tr>\n",
       "    <tr>\n",
       "      <th>10789</th>\n",
       "      <td>2066</td>\n",
       "      <td>MCDONALD'S</td>\n",
       "      <td>NaN</td>\n",
       "      <td>04432</td>\n",
       "      <td>9.948216e+09</td>\n",
       "      <td>NaN</td>\n",
       "      <td>2.0</td>\n",
       "    </tr>\n",
       "    <tr>\n",
       "      <th>11714</th>\n",
       "      <td>64981</td>\n",
       "      <td>MCDONALD'S</td>\n",
       "      <td>NaN</td>\n",
       "      <td>49982</td>\n",
       "      <td>9.016955e+09</td>\n",
       "      <td>NaN</td>\n",
       "      <td>6.0</td>\n",
       "    </tr>\n",
       "  </tbody>\n",
       "</table>\n",
       "</div>"
      ],
      "text/plain": [
       "          id business_name  street_number postal_code         phone  \\\n",
       "338    51366    MCDONALD'S            NaN       87471  3.599690e+09   \n",
       "583    92524    MCDONALD'S            NaN       70745  2.058111e+09   \n",
       "639    11631     MCDONALDS            NaN       93146           NaN   \n",
       "1431   25558    MCDONALD'S            NaN       78518  8.532115e+09   \n",
       "1976   56878    MCDONALD'S            NaN       48816  1.493681e+09   \n",
       "4258   56990    MCDONALD'S            NaN       59481  9.591914e+09   \n",
       "4381   82221    MCDONALD'S            NaN       49836  7.907618e+09   \n",
       "5217   94865    MCDONALD'S            NaN       71516  2.323663e+09   \n",
       "5227   98880    MCDONALD'S            NaN       12426  9.489085e+09   \n",
       "6807   34108    MCDONALD'S            NaN       24555  4.099466e+08   \n",
       "9386   37288    MCDONALD'S            NaN       34885  6.858369e+09   \n",
       "9587   38302    MCDONALD'S            NaN       88347  4.970515e+07   \n",
       "10000  64557    MCDONALD'S            NaN       19232  1.319315e+09   \n",
       "10789   2066    MCDONALD'S            NaN       04432  9.948216e+09   \n",
       "11714  64981    MCDONALD'S            NaN       49982  9.016955e+09   \n",
       "\n",
       "         revenue  age_of_business  \n",
       "338     302630.0              2.0  \n",
       "583     244633.0              NaN  \n",
       "639    1098298.0             10.0  \n",
       "1431         NaN              NaN  \n",
       "1976    668735.0             13.0  \n",
       "4258    411384.0             10.0  \n",
       "4381   1021841.0             19.0  \n",
       "5217    151333.0             12.0  \n",
       "5227         NaN              1.0  \n",
       "6807    335651.0             11.0  \n",
       "9386    252520.0              NaN  \n",
       "9587    370407.0             17.0  \n",
       "10000   403651.0              NaN  \n",
       "10789        NaN              2.0  \n",
       "11714        NaN              6.0  "
      ]
     },
     "execution_count": 17,
     "metadata": {},
     "output_type": "execute_result"
    }
   ],
   "source": [
    "businesses[businesses['id'].isin(dupe_list['mcdonalds'])][:15]"
   ]
  },
  {
   "cell_type": "markdown",
   "metadata": {
    "nbpresent": {
     "id": "ca4f8437-ebcc-426d-af93-e0775290930f"
    }
   },
   "source": [
    "Now check to see if certain businesses have a lot of \"duplicates\" based on this methodology"
   ]
  },
  {
   "cell_type": "code",
   "execution_count": 18,
   "metadata": {
    "collapsed": false,
    "nbpresent": {
     "id": "a97f8e13-30f7-4553-bf4f-15fc15ed036a"
    }
   },
   "outputs": [
    {
     "name": "stdout",
     "output_type": "stream",
     "text": [
      "[105, 'subway']\n",
      "[58, 'mcdonalds']\n",
      "[56, 'not provided']\n",
      "[41, 'dunkin donuts']\n",
      "[28, 'bimbo foods']\n",
      "[28, 'ace hardware']\n",
      "[27, 'family dollar store']\n",
      "[25, 'starbucks']\n",
      "[24, 'dominos']\n",
      "[23, 'gnc']\n",
      "[21, 'arbys']\n",
      "[17, 'sonic drive-in']\n",
      "[17, 'dollar general']\n",
      "[16, 'pizza hut']\n",
      "[16, 'kfc']\n"
     ]
    }
   ],
   "source": [
    "dupe_sum.sort(reverse=True)\n",
    "i=0\n",
    "for d in dupe_sum:\n",
    "    if i >= 15: break\n",
    "    print(d)\n",
    "    i+=1"
   ]
  },
  {
   "cell_type": "markdown",
   "metadata": {
    "nbpresent": {
     "id": "4d24ef84-8d64-4e9e-9b14-3e38630ed98f"
    }
   },
   "source": [
    "### Rethinking my Deduping Methodology\n",
    "\n",
    "My the biggest concern at this point in the de-duping process is that **too many business were grouped together**. For instance, franchises such as McDonalds are likely to respond separately to emails based on each individual management.  \n",
    "\n",
    "As a whole, this seems to be a somewhat adequate approach since the goal is to understand the relationship between revenue and response rate.  \n",
    "\n",
    "**However, it seems likely that we can be more precise by including postal_code into the unique business name.**  \n",
    "\n",
    "---"
   ]
  },
  {
   "cell_type": "markdown",
   "metadata": {
    "nbpresent": {
     "id": "26b44b17-81cf-4967-8edb-e3dfc39e2f12"
    }
   },
   "source": [
    "<a id='second_deduping'></a>\n",
    "## Second (modified) Deduping Approach\n",
    "- De-dupe in much the same way as the first approach\n",
    "- However, this time, also **include postal_code** in the business' \"unique\" name"
   ]
  },
  {
   "cell_type": "code",
   "execution_count": 19,
   "metadata": {
    "collapsed": false,
    "nbpresent": {
     "id": "8cf5b9e7-0adf-4c80-a368-83664d9a5d10"
    }
   },
   "outputs": [],
   "source": [
    "# create dictionary of \"cleaned\" business names + postal code and their corresponding IDs\n",
    "\n",
    "dupe_list_2 = defaultdict(list)\n",
    "\n",
    "with open('businesses.csv') as fhand:\n",
    "    reader = csv.reader(fhand, delimiter=',', quotechar='\\\"')\n",
    "    header_line = next(reader)\n",
    "    for data in reader:\n",
    "        bus_nm = clean(data[1].strip()+' +zip:'+data[3].strip())\n",
    "        dupe_list_2[bus_nm].append(int(data[0].strip()))\n",
    "        "
   ]
  },
  {
   "cell_type": "code",
   "execution_count": 20,
   "metadata": {
    "collapsed": true,
    "nbpresent": {
     "id": "c93db341-2893-4211-bcbf-a85aa624ebe6"
    }
   },
   "outputs": [],
   "source": [
    "# prepare to view output of dupe code (same process as before)\n",
    "dupes_2 = []\n",
    "dupe_sum_2 = []\n",
    "\n",
    "for k,v in dupe_list_2.items():\n",
    "    dupes_2.append(str(k)+'|'+str(v))\n",
    "    dupe_sum_2.append([len(v),str(k)])"
   ]
  },
  {
   "cell_type": "code",
   "execution_count": 21,
   "metadata": {
    "collapsed": false,
    "nbpresent": {
     "id": "cce0289c-b6f3-4685-b894-88b8f823a1c3"
    }
   },
   "outputs": [
    {
     "name": "stdout",
     "output_type": "stream",
     "text": [
      "007 locksmith +zip:00652|[30551]\n",
      "1 24 7 pest control +zip:24455|[48006]\n",
      "1 garage door repair +zip:73642|[11558]\n",
      "1 hr t-shirts team uniform +zip:74485|[66900, 58154]\n",
      "1 karate for kids family center +zip:00382|[78029, 69500]\n",
      "1 stop parts auto salvage +zip:00703|[52603, 22845]\n",
      "1-800-dryclean +zip:64810|[95094]\n",
      "10 75 emergency lighting +zip:49814|[37251, 72076]\n",
      "10 key accounting & fncl svc +zip:99406|[15030, 60218]\n",
      "100 west hair studio +zip:15470|[91712]\n",
      "1004 waterloo +zip:15493|[89360]\n",
      "101 mower mart +zip:91309|[71546, 67330]\n",
      "1022 south shady grove +zip:02514|[35638]\n",
      "1068 curry rd +zip:51046|[23614, 93950]\n",
      "115 truck stop +zip:87462|[33637, 62021]\n"
     ]
    }
   ],
   "source": [
    "dupes_2.sort()\n",
    "i=0\n",
    "for d in dupes_2:\n",
    "    if i >= 15: break\n",
    "    print(d)\n",
    "    i+=1"
   ]
  },
  {
   "cell_type": "code",
   "execution_count": 22,
   "metadata": {
    "collapsed": false,
    "nbpresent": {
     "id": "319675e6-8bdf-4999-9b04-23bea98c7684"
    }
   },
   "outputs": [
    {
     "name": "stdout",
     "output_type": "stream",
     "text": [
      "[4, 'red lobster +zip:65653']\n",
      "[4, 'capitol q restaurants +zip:11485']\n",
      "[3, 'the pizza place +zip:54945']\n",
      "[3, 'stumpin by mike +zip:50805']\n",
      "[3, 'pma hospitality group +zip:09857']\n",
      "[3, 'forever transmissions auto rpr +zip:27581']\n",
      "[3, 'equine medicine & surgery +zip:24502']\n",
      "[3, 'castle maid +zip:64567']\n",
      "[3, 'bonfert glass +zip:88645']\n",
      "[3, 'advance auto parts +zip:05943']\n",
      "[2, 'zushi cuisine +zip:99497']\n",
      "[2, 'zoup fresh soup company +zip:82408']\n",
      "[2, 'zorbit technologies ohio +zip:88407']\n",
      "[2, 'zorbas gyro on a spit +zip:12040']\n",
      "[2, 'zoom focus eyewear +zip:71664']\n"
     ]
    }
   ],
   "source": [
    "dupe_sum_2.sort(reverse=True)\n",
    "i=0\n",
    "for d in dupe_sum_2:\n",
    "    if i >= 15: break\n",
    "    print(d)\n",
    "    i+=1"
   ]
  },
  {
   "cell_type": "code",
   "execution_count": 23,
   "metadata": {
    "collapsed": false,
    "nbpresent": {
     "id": "595f0b11-ee0b-4df9-88e9-6dee003eeecf"
    },
    "scrolled": true
   },
   "outputs": [
    {
     "data": {
      "text/html": [
       "<div>\n",
       "<table border=\"1\" class=\"dataframe\">\n",
       "  <thead>\n",
       "    <tr style=\"text-align: right;\">\n",
       "      <th></th>\n",
       "      <th>id</th>\n",
       "      <th>business_name</th>\n",
       "      <th>street_number</th>\n",
       "      <th>postal_code</th>\n",
       "      <th>phone</th>\n",
       "      <th>revenue</th>\n",
       "      <th>age_of_business</th>\n",
       "    </tr>\n",
       "  </thead>\n",
       "  <tbody>\n",
       "    <tr>\n",
       "      <th>9163</th>\n",
       "      <td>1353</td>\n",
       "      <td>FOREVER TRANSMISSIONS AUTO RPR</td>\n",
       "      <td>NaN</td>\n",
       "      <td>27581</td>\n",
       "      <td>9.418374e+09</td>\n",
       "      <td>1207564.0</td>\n",
       "      <td>4.0</td>\n",
       "    </tr>\n",
       "    <tr>\n",
       "      <th>17024</th>\n",
       "      <td>44932</td>\n",
       "      <td>FOREVER TRANSMISSIONS AUTO RPR</td>\n",
       "      <td>NaN</td>\n",
       "      <td>27581</td>\n",
       "      <td>9.418374e+09</td>\n",
       "      <td>NaN</td>\n",
       "      <td>1.0</td>\n",
       "    </tr>\n",
       "    <tr>\n",
       "      <th>26287</th>\n",
       "      <td>14557</td>\n",
       "      <td>FOREVER TRANSMISSIONS AUTO RPR</td>\n",
       "      <td>NaN</td>\n",
       "      <td>27581</td>\n",
       "      <td>9.418374e+09</td>\n",
       "      <td>812135.0</td>\n",
       "      <td>4.0</td>\n",
       "    </tr>\n",
       "  </tbody>\n",
       "</table>\n",
       "</div>"
      ],
      "text/plain": [
       "          id                   business_name  street_number postal_code  \\\n",
       "9163    1353  FOREVER TRANSMISSIONS AUTO RPR            NaN       27581   \n",
       "17024  44932  FOREVER TRANSMISSIONS AUTO RPR            NaN       27581   \n",
       "26287  14557  FOREVER TRANSMISSIONS AUTO RPR            NaN       27581   \n",
       "\n",
       "              phone    revenue  age_of_business  \n",
       "9163   9.418374e+09  1207564.0              4.0  \n",
       "17024  9.418374e+09        NaN              1.0  \n",
       "26287  9.418374e+09   812135.0              4.0  "
      ]
     },
     "execution_count": 23,
     "metadata": {},
     "output_type": "execute_result"
    }
   ],
   "source": [
    "businesses[businesses['id'].isin(dupe_list_2['forever transmissions auto rpr +zip:27581'])]"
   ]
  },
  {
   "cell_type": "markdown",
   "metadata": {
    "nbpresent": {
     "id": "6ae52751-7c2c-4e2f-8901-6155602585c1"
    }
   },
   "source": [
    "<a id='next_steps'></a>\n",
    "## Potential Next Steps:\n",
    "This approach definitely seems to **better reflect the unique businesses** within the dataset.\n",
    "\n",
    "With additional time it would be interesting to apply some form of **\"fuzzy\" matching** to determine if there are additional duplicates with slightly different names. For instance, it seems as if there is an **ihop and ihop restaurant** that are separate items (in this case they have separate zip codes).  \n",
    "\n",
    "Additionally, it appears that the **data is actually quite clean**, despite duplicates being incorporated (as stated before, **likely due to a system error** not checking if a previous entry was included). **However, if user error (either misspelling or nicknames) makes its way into the dataset, fuzzy matching will become significantly more important.**  \n",
    "\n",
    "Another next step might be to check for additional information included in the phone data. **Currently, one of the biggest issues** is that businesses with similar names are being grouped if they all have **NULL postal codes**. Perhaps there might be a possibility to use **phone numbers** to differentiate between those entries.\n",
    "\n",
    "---"
   ]
  },
  {
   "cell_type": "markdown",
   "metadata": {
    "nbpresent": {
     "id": "e445b9ff-67e1-4eb6-ac5e-20b444af5f5d"
    }
   },
   "source": [
    "## Create CSV File with Pairs of IDs"
   ]
  },
  {
   "cell_type": "code",
   "execution_count": 24,
   "metadata": {
    "collapsed": true,
    "nbpresent": {
     "id": "c431edfa-3173-4641-a162-23c8d2f3564a"
    }
   },
   "outputs": [],
   "source": [
    "with open('connected_businesses.csv', 'w') as fhand:\n",
    "    bus_writer = csv.writer(fhand, delimiter=',', quotechar='\\\"', quoting=csv.QUOTE_MINIMAL)\n",
    "    for bus_ids in dupe_list_2.values():\n",
    "        for i in range(0,len(bus_ids)-1):\n",
    "            for j in range(i+1,len(bus_ids)):\n",
    "                bus_writer.writerow([bus_ids[i],bus_ids[j]])"
   ]
  },
  {
   "cell_type": "markdown",
   "metadata": {
    "nbpresent": {
     "id": "fd9949e2-4816-4dec-85c1-ec0a6f58b3c9"
    }
   },
   "source": [
    "---"
   ]
  },
  {
   "cell_type": "markdown",
   "metadata": {
    "nbpresent": {
     "id": "6701f246-eeae-4f22-a471-6b00fe36777e"
    }
   },
   "source": [
    "<a id= 'part_2'></a>\n",
    "# Part 2: Measuring Results\n",
    "1. What is the relationship between business revenue and response rate?\n",
    "2. Does the interactive email result in a better response rate?"
   ]
  },
  {
   "cell_type": "markdown",
   "metadata": {
    "nbpresent": {
     "id": "5b33cdd2-904d-4b11-8415-dbfa6009bc0a"
    }
   },
   "source": [
    "## Duplicate Revenue Reconciliation\n",
    "- Before analysis can be done on response rate, we need to first determine how **business revenue** is to be calculated among duplicate businesses (i.e. max, min, avg, etc.)\n",
    "- Since it seems as if **duplicates are temporal in nature**, my initial gut feeling is to take revenue based on the record with the **maximum age_of_business**\n",
    "- More digging will certainly be necessary to determine exactly which option is best!"
   ]
  },
  {
   "cell_type": "markdown",
   "metadata": {
    "nbpresent": {
     "id": "dd51f98e-4aa4-4b97-b552-f8c4ebe6226a"
    }
   },
   "source": [
    "### Populate updated businesses dataframe with unique business_name"
   ]
  },
  {
   "cell_type": "code",
   "execution_count": 25,
   "metadata": {
    "collapsed": true,
    "nbpresent": {
     "id": "a2763bbb-66cd-4bd2-989c-52a47f97a789"
    }
   },
   "outputs": [],
   "source": [
    "d_input = {'unique_id':[],'unique_bus_nm':[],'id':[]}\n",
    "\n",
    "i = 1\n",
    "for k,v in dupe_list_2.items():\n",
    "    for j in v:\n",
    "        d_input['unique_id'].append(i)\n",
    "        d_input['unique_bus_nm'].append(k)\n",
    "        d_input['id'].append(j)\n",
    "    i+=1\n",
    "\n",
    "bus_ref_sub1 = pd.DataFrame(d_input)"
   ]
  },
  {
   "cell_type": "code",
   "execution_count": 26,
   "metadata": {
    "collapsed": false,
    "nbpresent": {
     "id": "9c6bebf6-7933-4cd3-8792-1a3fff1ea13c"
    }
   },
   "outputs": [
    {
     "data": {
      "text/html": [
       "<div>\n",
       "<table border=\"1\" class=\"dataframe\">\n",
       "  <thead>\n",
       "    <tr style=\"text-align: right;\">\n",
       "      <th></th>\n",
       "      <th>id</th>\n",
       "      <th>unique_bus_nm</th>\n",
       "      <th>unique_id</th>\n",
       "    </tr>\n",
       "  </thead>\n",
       "  <tbody>\n",
       "    <tr>\n",
       "      <th>21350</th>\n",
       "      <td>70778</td>\n",
       "      <td>red lobster +zip:65653</td>\n",
       "      <td>14304</td>\n",
       "    </tr>\n",
       "    <tr>\n",
       "      <th>21351</th>\n",
       "      <td>70513</td>\n",
       "      <td>red lobster +zip:65653</td>\n",
       "      <td>14304</td>\n",
       "    </tr>\n",
       "    <tr>\n",
       "      <th>21352</th>\n",
       "      <td>97452</td>\n",
       "      <td>red lobster +zip:65653</td>\n",
       "      <td>14304</td>\n",
       "    </tr>\n",
       "    <tr>\n",
       "      <th>21353</th>\n",
       "      <td>24774</td>\n",
       "      <td>red lobster +zip:65653</td>\n",
       "      <td>14304</td>\n",
       "    </tr>\n",
       "  </tbody>\n",
       "</table>\n",
       "</div>"
      ],
      "text/plain": [
       "          id           unique_bus_nm  unique_id\n",
       "21350  70778  red lobster +zip:65653      14304\n",
       "21351  70513  red lobster +zip:65653      14304\n",
       "21352  97452  red lobster +zip:65653      14304\n",
       "21353  24774  red lobster +zip:65653      14304"
      ]
     },
     "execution_count": 26,
     "metadata": {},
     "output_type": "execute_result"
    }
   ],
   "source": [
    "bus_ref_sub1[bus_ref_sub1['unique_bus_nm']=='red lobster +zip:65653']"
   ]
  },
  {
   "cell_type": "code",
   "execution_count": 27,
   "metadata": {
    "collapsed": false,
    "nbpresent": {
     "id": "2cff0ed2-e6ae-4f80-81f1-889d19c7dbbe"
    }
   },
   "outputs": [
    {
     "data": {
      "text/html": [
       "<div>\n",
       "<table border=\"1\" class=\"dataframe\">\n",
       "  <thead>\n",
       "    <tr style=\"text-align: right;\">\n",
       "      <th></th>\n",
       "      <th>id</th>\n",
       "      <th>business_name</th>\n",
       "      <th>street_number</th>\n",
       "      <th>postal_code</th>\n",
       "      <th>phone</th>\n",
       "      <th>revenue</th>\n",
       "      <th>age_of_business</th>\n",
       "    </tr>\n",
       "  </thead>\n",
       "  <tbody>\n",
       "    <tr>\n",
       "      <th>0</th>\n",
       "      <td>55234</td>\n",
       "      <td>HONOLULU AUTOWORKS</td>\n",
       "      <td>NaN</td>\n",
       "      <td>76259</td>\n",
       "      <td>3.372111e+09</td>\n",
       "      <td>1006893.0</td>\n",
       "      <td>3.0</td>\n",
       "    </tr>\n",
       "    <tr>\n",
       "      <th>1</th>\n",
       "      <td>31921</td>\n",
       "      <td>EMETEORS INC</td>\n",
       "      <td>NaN</td>\n",
       "      <td>49483</td>\n",
       "      <td>2.406784e+09</td>\n",
       "      <td>564444.0</td>\n",
       "      <td>12.0</td>\n",
       "    </tr>\n",
       "    <tr>\n",
       "      <th>2</th>\n",
       "      <td>19711</td>\n",
       "      <td>7-Eleven</td>\n",
       "      <td>NaN</td>\n",
       "      <td>64448</td>\n",
       "      <td>8.329000e+09</td>\n",
       "      <td>129895.0</td>\n",
       "      <td>25.0</td>\n",
       "    </tr>\n",
       "    <tr>\n",
       "      <th>3</th>\n",
       "      <td>53575</td>\n",
       "      <td>HILLTOP MAINTENANCE</td>\n",
       "      <td>NaN</td>\n",
       "      <td>87662</td>\n",
       "      <td>1.052236e+09</td>\n",
       "      <td>320152.0</td>\n",
       "      <td>1.0</td>\n",
       "    </tr>\n",
       "    <tr>\n",
       "      <th>4</th>\n",
       "      <td>38480</td>\n",
       "      <td>GAP</td>\n",
       "      <td>NaN</td>\n",
       "      <td>80456</td>\n",
       "      <td>6.580070e+09</td>\n",
       "      <td>230956.0</td>\n",
       "      <td>NaN</td>\n",
       "    </tr>\n",
       "  </tbody>\n",
       "</table>\n",
       "</div>"
      ],
      "text/plain": [
       "      id        business_name  street_number postal_code         phone  \\\n",
       "0  55234   HONOLULU AUTOWORKS            NaN       76259  3.372111e+09   \n",
       "1  31921         EMETEORS INC            NaN       49483  2.406784e+09   \n",
       "2  19711             7-Eleven            NaN       64448  8.329000e+09   \n",
       "3  53575  HILLTOP MAINTENANCE            NaN       87662  1.052236e+09   \n",
       "4  38480                  GAP            NaN       80456  6.580070e+09   \n",
       "\n",
       "     revenue  age_of_business  \n",
       "0  1006893.0              3.0  \n",
       "1   564444.0             12.0  \n",
       "2   129895.0             25.0  \n",
       "3   320152.0              1.0  \n",
       "4   230956.0              NaN  "
      ]
     },
     "execution_count": 27,
     "metadata": {},
     "output_type": "execute_result"
    }
   ],
   "source": [
    "businesses.head()"
   ]
  },
  {
   "cell_type": "markdown",
   "metadata": {
    "nbpresent": {
     "id": "31c598b7-dbd1-4ee2-8852-ba059646938e"
    }
   },
   "source": [
    "### Join on the rest of the businesses data"
   ]
  },
  {
   "cell_type": "code",
   "execution_count": 28,
   "metadata": {
    "collapsed": true,
    "nbpresent": {
     "id": "14c6fae7-bae8-40d8-a263-234a385a3f36"
    }
   },
   "outputs": [],
   "source": [
    "bus_ref = pd.merge(bus_ref_sub1, businesses, how='inner', on='id')"
   ]
  },
  {
   "cell_type": "code",
   "execution_count": 29,
   "metadata": {
    "collapsed": false,
    "nbpresent": {
     "id": "d6048e8e-0a15-4943-8142-a4f9f4631854"
    }
   },
   "outputs": [
    {
     "data": {
      "text/html": [
       "<div>\n",
       "<table border=\"1\" class=\"dataframe\">\n",
       "  <thead>\n",
       "    <tr style=\"text-align: right;\">\n",
       "      <th></th>\n",
       "      <th>id</th>\n",
       "      <th>unique_bus_nm</th>\n",
       "      <th>unique_id</th>\n",
       "      <th>business_name</th>\n",
       "      <th>street_number</th>\n",
       "      <th>postal_code</th>\n",
       "      <th>phone</th>\n",
       "      <th>revenue</th>\n",
       "      <th>age_of_business</th>\n",
       "    </tr>\n",
       "  </thead>\n",
       "  <tbody>\n",
       "    <tr>\n",
       "      <th>21350</th>\n",
       "      <td>70778</td>\n",
       "      <td>red lobster +zip:65653</td>\n",
       "      <td>14304</td>\n",
       "      <td>RED LOBSTER</td>\n",
       "      <td>NaN</td>\n",
       "      <td>65653</td>\n",
       "      <td>476269956.0</td>\n",
       "      <td>552959.0</td>\n",
       "      <td>12.0</td>\n",
       "    </tr>\n",
       "    <tr>\n",
       "      <th>21351</th>\n",
       "      <td>70513</td>\n",
       "      <td>red lobster +zip:65653</td>\n",
       "      <td>14304</td>\n",
       "      <td>Red Lobster Inc</td>\n",
       "      <td>7486.0</td>\n",
       "      <td>65653</td>\n",
       "      <td>479355166.0</td>\n",
       "      <td>285899.0</td>\n",
       "      <td>18.0</td>\n",
       "    </tr>\n",
       "    <tr>\n",
       "      <th>21352</th>\n",
       "      <td>97452</td>\n",
       "      <td>red lobster +zip:65653</td>\n",
       "      <td>14304</td>\n",
       "      <td>Red Lobster Llc</td>\n",
       "      <td>651.0</td>\n",
       "      <td>65653</td>\n",
       "      <td>NaN</td>\n",
       "      <td>144074.0</td>\n",
       "      <td>16.0</td>\n",
       "    </tr>\n",
       "    <tr>\n",
       "      <th>21353</th>\n",
       "      <td>24774</td>\n",
       "      <td>red lobster +zip:65653</td>\n",
       "      <td>14304</td>\n",
       "      <td>RED LOBSTER</td>\n",
       "      <td>NaN</td>\n",
       "      <td>65653</td>\n",
       "      <td>NaN</td>\n",
       "      <td>NaN</td>\n",
       "      <td>NaN</td>\n",
       "    </tr>\n",
       "  </tbody>\n",
       "</table>\n",
       "</div>"
      ],
      "text/plain": [
       "          id           unique_bus_nm  unique_id    business_name  \\\n",
       "21350  70778  red lobster +zip:65653      14304      RED LOBSTER   \n",
       "21351  70513  red lobster +zip:65653      14304  Red Lobster Inc   \n",
       "21352  97452  red lobster +zip:65653      14304  Red Lobster Llc   \n",
       "21353  24774  red lobster +zip:65653      14304      RED LOBSTER   \n",
       "\n",
       "       street_number postal_code        phone   revenue  age_of_business  \n",
       "21350            NaN       65653  476269956.0  552959.0             12.0  \n",
       "21351         7486.0       65653  479355166.0  285899.0             18.0  \n",
       "21352          651.0       65653          NaN  144074.0             16.0  \n",
       "21353            NaN       65653          NaN       NaN              NaN  "
      ]
     },
     "execution_count": 29,
     "metadata": {},
     "output_type": "execute_result"
    }
   ],
   "source": [
    "bus_ref[bus_ref['unique_bus_nm']=='red lobster +zip:65653']"
   ]
  },
  {
   "cell_type": "code",
   "execution_count": 30,
   "metadata": {
    "collapsed": false,
    "nbpresent": {
     "id": "e65de619-8c91-4869-8b4c-0a60dd58c466"
    }
   },
   "outputs": [
    {
     "data": {
      "text/html": [
       "<div>\n",
       "<table border=\"1\" class=\"dataframe\">\n",
       "  <thead>\n",
       "    <tr style=\"text-align: right;\">\n",
       "      <th></th>\n",
       "      <th>id</th>\n",
       "      <th>unique_bus_nm</th>\n",
       "      <th>unique_id</th>\n",
       "      <th>business_name</th>\n",
       "      <th>street_number</th>\n",
       "      <th>postal_code</th>\n",
       "      <th>phone</th>\n",
       "      <th>revenue</th>\n",
       "      <th>age_of_business</th>\n",
       "    </tr>\n",
       "  </thead>\n",
       "  <tbody>\n",
       "    <tr>\n",
       "      <th>14580</th>\n",
       "      <td>89577</td>\n",
       "      <td>advance auto parts +zip:05943</td>\n",
       "      <td>9751</td>\n",
       "      <td>Advance Auto Parts</td>\n",
       "      <td>NaN</td>\n",
       "      <td>05943</td>\n",
       "      <td>NaN</td>\n",
       "      <td>1215169.0</td>\n",
       "      <td>12.0</td>\n",
       "    </tr>\n",
       "    <tr>\n",
       "      <th>14581</th>\n",
       "      <td>99467</td>\n",
       "      <td>advance auto parts +zip:05943</td>\n",
       "      <td>9751</td>\n",
       "      <td>ADVANCE AUTO PARTS</td>\n",
       "      <td>NaN</td>\n",
       "      <td>05943</td>\n",
       "      <td>1.178029e+09</td>\n",
       "      <td>897817.0</td>\n",
       "      <td>9.0</td>\n",
       "    </tr>\n",
       "    <tr>\n",
       "      <th>14582</th>\n",
       "      <td>93284</td>\n",
       "      <td>advance auto parts +zip:05943</td>\n",
       "      <td>9751</td>\n",
       "      <td>ADVANCE AUTO PARTS</td>\n",
       "      <td>NaN</td>\n",
       "      <td>05943</td>\n",
       "      <td>1.172207e+09</td>\n",
       "      <td>102587.0</td>\n",
       "      <td>1.0</td>\n",
       "    </tr>\n",
       "  </tbody>\n",
       "</table>\n",
       "</div>"
      ],
      "text/plain": [
       "          id                  unique_bus_nm  unique_id       business_name  \\\n",
       "14580  89577  advance auto parts +zip:05943       9751  Advance Auto Parts   \n",
       "14581  99467  advance auto parts +zip:05943       9751  ADVANCE AUTO PARTS   \n",
       "14582  93284  advance auto parts +zip:05943       9751  ADVANCE AUTO PARTS   \n",
       "\n",
       "       street_number postal_code         phone    revenue  age_of_business  \n",
       "14580            NaN       05943           NaN  1215169.0             12.0  \n",
       "14581            NaN       05943  1.178029e+09   897817.0              9.0  \n",
       "14582            NaN       05943  1.172207e+09   102587.0              1.0  "
      ]
     },
     "execution_count": 30,
     "metadata": {},
     "output_type": "execute_result"
    }
   ],
   "source": [
    "bus_ref[bus_ref['unique_bus_nm']=='advance auto parts +zip:05943']"
   ]
  },
  {
   "cell_type": "markdown",
   "metadata": {
    "nbpresent": {
     "id": "e748e304-6cf0-49f1-82df-d2ffc135aeb1"
    }
   },
   "source": [
    "### Check to see if it makes sense to use age_of_business as a proxy for \"recency\""
   ]
  },
  {
   "cell_type": "code",
   "execution_count": 31,
   "metadata": {
    "collapsed": false,
    "nbpresent": {
     "id": "eee44668-e33f-4328-9fbd-f39660747345"
    }
   },
   "outputs": [
    {
     "data": {
      "text/plain": [
       "count    26528.000000\n",
       "mean         9.021336\n",
       "std          6.314211\n",
       "min          1.000000\n",
       "25%               NaN\n",
       "50%               NaN\n",
       "75%               NaN\n",
       "max         31.000000\n",
       "Name: age_of_business, dtype: float64"
      ]
     },
     "execution_count": 31,
     "metadata": {},
     "output_type": "execute_result"
    }
   ],
   "source": [
    "bus_ref['age_of_business'].describe()"
   ]
  },
  {
   "cell_type": "markdown",
   "metadata": {
    "nbpresent": {
     "id": "e3b8d1a5-ab0b-467f-9e1c-9f4573c1eeae"
    }
   },
   "source": [
    "The main concern is that there might be unique businesses in which each record has an age_of_business = NaN. Because the min age_of_business is 1.0, we can replace NaN with -1 and take the max age."
   ]
  },
  {
   "cell_type": "code",
   "execution_count": 32,
   "metadata": {
    "collapsed": true,
    "nbpresent": {
     "id": "fd3abbba-8f7b-4630-b1ca-8e312a04115b"
    }
   },
   "outputs": [],
   "source": [
    "bus_ref['age_of_business'].fillna(value=-1, inplace=True)\n",
    "bus_ref['revenue'].fillna(value=0, inplace=True)"
   ]
  },
  {
   "cell_type": "code",
   "execution_count": 33,
   "metadata": {
    "collapsed": true,
    "nbpresent": {
     "id": "eeea6a40-2c2d-4aee-9db6-9175743b5e52"
    }
   },
   "outputs": [],
   "source": [
    "age_test = bus_ref[['unique_id','age_of_business']]"
   ]
  },
  {
   "cell_type": "code",
   "execution_count": 34,
   "metadata": {
    "collapsed": false,
    "nbpresent": {
     "id": "1deeda21-4e34-408c-b10c-33067943be94"
    }
   },
   "outputs": [],
   "source": [
    "test = age_test['age_of_business'] \\\n",
    "    .groupby(age_test['unique_id']) \\\n",
    "    .apply(lambda f: {'min':f.min(), 'max':f.max(), 'count':f.count()}) \\\n",
    "    .unstack()\n",
    "\n",
    "test['unique_id'] = test.index"
   ]
  },
  {
   "cell_type": "code",
   "execution_count": 35,
   "metadata": {
    "collapsed": false,
    "nbpresent": {
     "id": "1dacc3d3-313c-4492-afe1-079a59d01298"
    }
   },
   "outputs": [
    {
     "data": {
      "text/html": [
       "<div>\n",
       "<table border=\"1\" class=\"dataframe\">\n",
       "  <thead>\n",
       "    <tr style=\"text-align: right;\">\n",
       "      <th></th>\n",
       "      <th>count</th>\n",
       "      <th>max</th>\n",
       "      <th>min</th>\n",
       "      <th>unique_id</th>\n",
       "    </tr>\n",
       "    <tr>\n",
       "      <th>unique_id</th>\n",
       "      <th></th>\n",
       "      <th></th>\n",
       "      <th></th>\n",
       "      <th></th>\n",
       "    </tr>\n",
       "  </thead>\n",
       "  <tbody>\n",
       "    <tr>\n",
       "      <th>31</th>\n",
       "      <td>2.0</td>\n",
       "      <td>-1.0</td>\n",
       "      <td>-1.0</td>\n",
       "      <td>31</td>\n",
       "    </tr>\n",
       "    <tr>\n",
       "      <th>70</th>\n",
       "      <td>2.0</td>\n",
       "      <td>-1.0</td>\n",
       "      <td>-1.0</td>\n",
       "      <td>70</td>\n",
       "    </tr>\n",
       "    <tr>\n",
       "      <th>77</th>\n",
       "      <td>2.0</td>\n",
       "      <td>-1.0</td>\n",
       "      <td>-1.0</td>\n",
       "      <td>77</td>\n",
       "    </tr>\n",
       "    <tr>\n",
       "      <th>202</th>\n",
       "      <td>2.0</td>\n",
       "      <td>-1.0</td>\n",
       "      <td>-1.0</td>\n",
       "      <td>202</td>\n",
       "    </tr>\n",
       "    <tr>\n",
       "      <th>253</th>\n",
       "      <td>2.0</td>\n",
       "      <td>-1.0</td>\n",
       "      <td>-1.0</td>\n",
       "      <td>253</td>\n",
       "    </tr>\n",
       "  </tbody>\n",
       "</table>\n",
       "</div>"
      ],
      "text/plain": [
       "           count  max  min  unique_id\n",
       "unique_id                            \n",
       "31           2.0 -1.0 -1.0         31\n",
       "70           2.0 -1.0 -1.0         70\n",
       "77           2.0 -1.0 -1.0         77\n",
       "202          2.0 -1.0 -1.0        202\n",
       "253          2.0 -1.0 -1.0        253"
      ]
     },
     "execution_count": 35,
     "metadata": {},
     "output_type": "execute_result"
    }
   ],
   "source": [
    "# pull unique business IDs where there is more than one business record and each record has no age_of_business\n",
    "no_age = test[(test['count']>1) & (test['max']==-1.0)].head()\n",
    "no_age"
   ]
  },
  {
   "cell_type": "code",
   "execution_count": 36,
   "metadata": {
    "collapsed": false,
    "nbpresent": {
     "id": "18f6b272-973c-4a73-bbf9-10934468cf64"
    }
   },
   "outputs": [
    {
     "data": {
      "text/html": [
       "<div>\n",
       "<table border=\"1\" class=\"dataframe\">\n",
       "  <thead>\n",
       "    <tr style=\"text-align: right;\">\n",
       "      <th></th>\n",
       "      <th>id</th>\n",
       "      <th>unique_bus_nm</th>\n",
       "      <th>unique_id</th>\n",
       "      <th>business_name</th>\n",
       "      <th>street_number</th>\n",
       "      <th>postal_code</th>\n",
       "      <th>phone</th>\n",
       "      <th>revenue</th>\n",
       "      <th>age_of_business</th>\n",
       "    </tr>\n",
       "  </thead>\n",
       "  <tbody>\n",
       "    <tr>\n",
       "      <th>50</th>\n",
       "      <td>73037</td>\n",
       "      <td>value village +zip:33856</td>\n",
       "      <td>31</td>\n",
       "      <td>Value Village Co</td>\n",
       "      <td>8968.0</td>\n",
       "      <td>33856</td>\n",
       "      <td>7.316776e+09</td>\n",
       "      <td>171666.0</td>\n",
       "      <td>-1.0</td>\n",
       "    </tr>\n",
       "    <tr>\n",
       "      <th>51</th>\n",
       "      <td>42858</td>\n",
       "      <td>value village +zip:33856</td>\n",
       "      <td>31</td>\n",
       "      <td>VALUE VILLAGE</td>\n",
       "      <td>NaN</td>\n",
       "      <td>33856</td>\n",
       "      <td>7.317144e+09</td>\n",
       "      <td>124581.0</td>\n",
       "      <td>-1.0</td>\n",
       "    </tr>\n",
       "    <tr>\n",
       "      <th>112</th>\n",
       "      <td>25433</td>\n",
       "      <td>little ones day care +zip:74488</td>\n",
       "      <td>70</td>\n",
       "      <td>LITTLE ONES DAY CARE</td>\n",
       "      <td>NaN</td>\n",
       "      <td>74488</td>\n",
       "      <td>1.093341e+08</td>\n",
       "      <td>280342.0</td>\n",
       "      <td>-1.0</td>\n",
       "    </tr>\n",
       "    <tr>\n",
       "      <th>113</th>\n",
       "      <td>84283</td>\n",
       "      <td>little ones day care +zip:74488</td>\n",
       "      <td>70</td>\n",
       "      <td>LITTLE ONES DAY CARE</td>\n",
       "      <td>NaN</td>\n",
       "      <td>74488</td>\n",
       "      <td>1.093341e+08</td>\n",
       "      <td>365351.0</td>\n",
       "      <td>-1.0</td>\n",
       "    </tr>\n",
       "    <tr>\n",
       "      <th>121</th>\n",
       "      <td>75196</td>\n",
       "      <td>south miami pharmacy +zip:00580</td>\n",
       "      <td>77</td>\n",
       "      <td>SOUTH MIAMI PHARMACY INC</td>\n",
       "      <td>NaN</td>\n",
       "      <td>00580</td>\n",
       "      <td>NaN</td>\n",
       "      <td>111492.0</td>\n",
       "      <td>-1.0</td>\n",
       "    </tr>\n",
       "    <tr>\n",
       "      <th>122</th>\n",
       "      <td>62671</td>\n",
       "      <td>south miami pharmacy +zip:00580</td>\n",
       "      <td>77</td>\n",
       "      <td>SOUTH MIAMI PHARMACY INC</td>\n",
       "      <td>NaN</td>\n",
       "      <td>00580</td>\n",
       "      <td>NaN</td>\n",
       "      <td>141067.0</td>\n",
       "      <td>-1.0</td>\n",
       "    </tr>\n",
       "    <tr>\n",
       "      <th>316</th>\n",
       "      <td>70600</td>\n",
       "      <td>miele kitchen &amp; laurdry appls +zip:78654</td>\n",
       "      <td>202</td>\n",
       "      <td>MIELE KITCHEN &amp; LAURDRY APPLS</td>\n",
       "      <td>NaN</td>\n",
       "      <td>78654</td>\n",
       "      <td>3.548639e+09</td>\n",
       "      <td>1061617.0</td>\n",
       "      <td>-1.0</td>\n",
       "    </tr>\n",
       "    <tr>\n",
       "      <th>317</th>\n",
       "      <td>2017</td>\n",
       "      <td>miele kitchen &amp; laurdry appls +zip:78654</td>\n",
       "      <td>202</td>\n",
       "      <td>Miele Kitchen &amp; Laurdry Appls</td>\n",
       "      <td>NaN</td>\n",
       "      <td>78654</td>\n",
       "      <td>NaN</td>\n",
       "      <td>899976.0</td>\n",
       "      <td>-1.0</td>\n",
       "    </tr>\n",
       "    <tr>\n",
       "      <th>389</th>\n",
       "      <td>63827</td>\n",
       "      <td>lazy river rentals +zip:2290</td>\n",
       "      <td>253</td>\n",
       "      <td>LAZY RIVER RENTALS</td>\n",
       "      <td>NaN</td>\n",
       "      <td>2290</td>\n",
       "      <td>9.011872e+09</td>\n",
       "      <td>1088857.0</td>\n",
       "      <td>-1.0</td>\n",
       "    </tr>\n",
       "    <tr>\n",
       "      <th>390</th>\n",
       "      <td>29783</td>\n",
       "      <td>lazy river rentals +zip:2290</td>\n",
       "      <td>253</td>\n",
       "      <td>LAZY RIVER RENTALS</td>\n",
       "      <td>NaN</td>\n",
       "      <td>2290</td>\n",
       "      <td>9.011872e+09</td>\n",
       "      <td>1114909.0</td>\n",
       "      <td>-1.0</td>\n",
       "    </tr>\n",
       "  </tbody>\n",
       "</table>\n",
       "</div>"
      ],
      "text/plain": [
       "        id                             unique_bus_nm  unique_id  \\\n",
       "50   73037                  value village +zip:33856         31   \n",
       "51   42858                  value village +zip:33856         31   \n",
       "112  25433           little ones day care +zip:74488         70   \n",
       "113  84283           little ones day care +zip:74488         70   \n",
       "121  75196           south miami pharmacy +zip:00580         77   \n",
       "122  62671           south miami pharmacy +zip:00580         77   \n",
       "316  70600  miele kitchen & laurdry appls +zip:78654        202   \n",
       "317   2017  miele kitchen & laurdry appls +zip:78654        202   \n",
       "389  63827              lazy river rentals +zip:2290        253   \n",
       "390  29783              lazy river rentals +zip:2290        253   \n",
       "\n",
       "                     business_name  street_number postal_code         phone  \\\n",
       "50                Value Village Co         8968.0       33856  7.316776e+09   \n",
       "51                   VALUE VILLAGE            NaN       33856  7.317144e+09   \n",
       "112           LITTLE ONES DAY CARE            NaN       74488  1.093341e+08   \n",
       "113           LITTLE ONES DAY CARE            NaN       74488  1.093341e+08   \n",
       "121       SOUTH MIAMI PHARMACY INC            NaN       00580           NaN   \n",
       "122       SOUTH MIAMI PHARMACY INC            NaN       00580           NaN   \n",
       "316  MIELE KITCHEN & LAURDRY APPLS            NaN       78654  3.548639e+09   \n",
       "317  Miele Kitchen & Laurdry Appls            NaN       78654           NaN   \n",
       "389             LAZY RIVER RENTALS            NaN        2290  9.011872e+09   \n",
       "390             LAZY RIVER RENTALS            NaN        2290  9.011872e+09   \n",
       "\n",
       "       revenue  age_of_business  \n",
       "50    171666.0             -1.0  \n",
       "51    124581.0             -1.0  \n",
       "112   280342.0             -1.0  \n",
       "113   365351.0             -1.0  \n",
       "121   111492.0             -1.0  \n",
       "122   141067.0             -1.0  \n",
       "316  1061617.0             -1.0  \n",
       "317   899976.0             -1.0  \n",
       "389  1088857.0             -1.0  \n",
       "390  1114909.0             -1.0  "
      ]
     },
     "execution_count": 36,
     "metadata": {},
     "output_type": "execute_result"
    }
   ],
   "source": [
    "bus_ref[bus_ref['unique_id'].isin(no_age.index)]"
   ]
  },
  {
   "cell_type": "markdown",
   "metadata": {
    "nbpresent": {
     "id": "02204f32-f902-4ba5-b1d6-f8c420c11c63"
    }
   },
   "source": [
    "### Note:\n",
    "\n",
    "It appears that we can take the **max revenue if we have more than one record** with the oldest age_of_business. This will **solve for the issue of multiple NaN age records**, as well as for the **issue of multiple records with the same non-NaN age**."
   ]
  },
  {
   "cell_type": "code",
   "execution_count": 37,
   "metadata": {
    "collapsed": false,
    "nbpresent": {
     "id": "d2c189a6-7334-4184-b099-eb643655f2e1"
    }
   },
   "outputs": [],
   "source": [
    "revenue = \\\n",
    "    pd.merge(bus_ref, test, how='inner', \n",
    "        left_on=[bus_ref['unique_id'],bus_ref['age_of_business']], \n",
    "        right_on=[test['unique_id'],test['max']], suffixes=('','_x')) \\\n",
    "        [['unique_id','revenue']] \\\n",
    "    .groupby('unique_id', as_index=False) \\\n",
    "    .max()"
   ]
  },
  {
   "cell_type": "code",
   "execution_count": 38,
   "metadata": {
    "collapsed": false,
    "nbpresent": {
     "id": "a818fda3-83fb-410a-ae49-4094a1d87a8f"
    }
   },
   "outputs": [
    {
     "data": {
      "text/html": [
       "<div>\n",
       "<table border=\"1\" class=\"dataframe\">\n",
       "  <thead>\n",
       "    <tr style=\"text-align: right;\">\n",
       "      <th></th>\n",
       "      <th>unique_id</th>\n",
       "      <th>revenue</th>\n",
       "    </tr>\n",
       "  </thead>\n",
       "  <tbody>\n",
       "    <tr>\n",
       "      <th>31</th>\n",
       "      <td>32</td>\n",
       "      <td>135720.0</td>\n",
       "    </tr>\n",
       "    <tr>\n",
       "      <th>70</th>\n",
       "      <td>71</td>\n",
       "      <td>0.0</td>\n",
       "    </tr>\n",
       "    <tr>\n",
       "      <th>77</th>\n",
       "      <td>78</td>\n",
       "      <td>206252.0</td>\n",
       "    </tr>\n",
       "    <tr>\n",
       "      <th>202</th>\n",
       "      <td>203</td>\n",
       "      <td>536286.0</td>\n",
       "    </tr>\n",
       "    <tr>\n",
       "      <th>253</th>\n",
       "      <td>254</td>\n",
       "      <td>102260.0</td>\n",
       "    </tr>\n",
       "  </tbody>\n",
       "</table>\n",
       "</div>"
      ],
      "text/plain": [
       "     unique_id   revenue\n",
       "31          32  135720.0\n",
       "70          71       0.0\n",
       "77          78  206252.0\n",
       "202        203  536286.0\n",
       "253        254  102260.0"
      ]
     },
     "execution_count": 38,
     "metadata": {},
     "output_type": "execute_result"
    }
   ],
   "source": [
    "revenue[revenue.index.isin(no_age.index)].head()"
   ]
  },
  {
   "cell_type": "code",
   "execution_count": 39,
   "metadata": {
    "collapsed": true,
    "nbpresent": {
     "id": "c99ec30e-0052-43ac-a341-aadb5efd6418"
    }
   },
   "outputs": [],
   "source": [
    "import seaborn as sns\n",
    "import matplotlib.pyplot as plt\n",
    "import matplotlib.patches as mpatches\n",
    "\n",
    "%matplotlib inline\n",
    "plt.style.use('seaborn-colorblind')"
   ]
  },
  {
   "cell_type": "code",
   "execution_count": 40,
   "metadata": {
    "collapsed": false,
    "nbpresent": {
     "id": "d91cbca9-e662-4bf2-87a3-9f9c16016f6f"
    }
   },
   "outputs": [
    {
     "data": {
      "image/png": "[encoded data removed]",
      "text/plain": [
       "<matplotlib.figure.Figure at 0x7f217905d898>"
      ]
     },
     "metadata": {},
     "output_type": "display_data"
    }
   ],
   "source": [
    "#find percent missing values\n",
    "perc_missing = 100.*revenue[revenue['revenue']==0].groupby('revenue').size()[0]/len(revenue.index)\n",
    "\n",
    "#plot\n",
    "hist = plt.figure(figsize=(8,5))\n",
    "ax=hist.add_subplot(2,1,1)\n",
    "sns.boxplot(revenue['revenue'])\n",
    "plt.title('Revenue distribution (missing value pct: {:.1f}%)'.format(perc_missing), fontsize=12)\n",
    "plt.xlabel('')\n",
    "xmin,xmax = ax.get_xlim()\n",
    "\n",
    "ax=hist.add_subplot(2,1,2)\n",
    "sns.distplot(revenue['revenue'],bins=10)\n",
    "plt.xlabel('Revenue')\n",
    "plt.ylabel('Distribution')\n",
    "plt.xlim(xmin,xmax)\n",
    "\n",
    "plt.show()"
   ]
  },
  {
   "cell_type": "markdown",
   "metadata": {},
   "source": [
    "### Note:\n",
    "\n",
    "There **do not seem to be any extreme outliers**, though it might be a good idea to remove businesses with **$0 revenue** when measuring the relationship between business revenue and response rate."
   ]
  },
  {
   "cell_type": "markdown",
   "metadata": {
    "nbpresent": {
     "id": "7af3dd64-69f4-413b-85ac-07850b508c06"
    }
   },
   "source": [
    "<a id='email_dataset'></a>\n",
    "## Email Dataset for Unique Businesses"
   ]
  },
  {
   "cell_type": "code",
   "execution_count": 41,
   "metadata": {
    "collapsed": true,
    "nbpresent": {
     "id": "dad0e698-87eb-459a-889c-dd0b3a2656e6"
    }
   },
   "outputs": [],
   "source": [
    "emails_input = pd.read_csv('emails.csv')"
   ]
  },
  {
   "cell_type": "code",
   "execution_count": 42,
   "metadata": {
    "collapsed": false
   },
   "outputs": [
    {
     "data": {
      "text/html": [
       "<div>\n",
       "<table border=\"1\" class=\"dataframe\">\n",
       "  <thead>\n",
       "    <tr style=\"text-align: right;\">\n",
       "      <th></th>\n",
       "      <th>id</th>\n",
       "      <th>month</th>\n",
       "      <th>message</th>\n",
       "      <th>responded</th>\n",
       "    </tr>\n",
       "  </thead>\n",
       "  <tbody>\n",
       "    <tr>\n",
       "      <th>0</th>\n",
       "      <td>0</td>\n",
       "      <td>2</td>\n",
       "      <td>Text</td>\n",
       "      <td>False</td>\n",
       "    </tr>\n",
       "    <tr>\n",
       "      <th>1</th>\n",
       "      <td>0</td>\n",
       "      <td>8</td>\n",
       "      <td>Text</td>\n",
       "      <td>False</td>\n",
       "    </tr>\n",
       "    <tr>\n",
       "      <th>2</th>\n",
       "      <td>0</td>\n",
       "      <td>9</td>\n",
       "      <td>Interactive</td>\n",
       "      <td>False</td>\n",
       "    </tr>\n",
       "    <tr>\n",
       "      <th>3</th>\n",
       "      <td>0</td>\n",
       "      <td>11</td>\n",
       "      <td>Interactive</td>\n",
       "      <td>False</td>\n",
       "    </tr>\n",
       "    <tr>\n",
       "      <th>4</th>\n",
       "      <td>4</td>\n",
       "      <td>0</td>\n",
       "      <td>Text</td>\n",
       "      <td>False</td>\n",
       "    </tr>\n",
       "  </tbody>\n",
       "</table>\n",
       "</div>"
      ],
      "text/plain": [
       "   id  month      message responded\n",
       "0   0      2         Text     False\n",
       "1   0      8         Text     False\n",
       "2   0      9  Interactive     False\n",
       "3   0     11  Interactive     False\n",
       "4   4      0         Text     False"
      ]
     },
     "execution_count": 42,
     "metadata": {},
     "output_type": "execute_result"
    }
   ],
   "source": [
    "emails_input.head()"
   ]
  },
  {
   "cell_type": "code",
   "execution_count": 43,
   "metadata": {
    "collapsed": false,
    "nbpresent": {
     "id": "52184d39-8e36-4b7a-ae4d-7fdca1bddcb8"
    }
   },
   "outputs": [],
   "source": [
    "emails = pd.merge(emails_input, bus_ref[['unique_id','id']], how='inner', on='id')"
   ]
  },
  {
   "cell_type": "code",
   "execution_count": 44,
   "metadata": {
    "collapsed": false
   },
   "outputs": [
    {
     "data": {
      "text/html": [
       "<div>\n",
       "<table border=\"1\" class=\"dataframe\">\n",
       "  <thead>\n",
       "    <tr style=\"text-align: right;\">\n",
       "      <th>message</th>\n",
       "      <th>Interactive</th>\n",
       "      <th>Text</th>\n",
       "      <th>All</th>\n",
       "    </tr>\n",
       "    <tr>\n",
       "      <th>responded</th>\n",
       "      <th></th>\n",
       "      <th></th>\n",
       "      <th></th>\n",
       "    </tr>\n",
       "  </thead>\n",
       "  <tbody>\n",
       "    <tr>\n",
       "      <th>False</th>\n",
       "      <td>43443</td>\n",
       "      <td>74821</td>\n",
       "      <td>118264</td>\n",
       "    </tr>\n",
       "    <tr>\n",
       "      <th>True</th>\n",
       "      <td>3585</td>\n",
       "      <td>6297</td>\n",
       "      <td>9882</td>\n",
       "    </tr>\n",
       "    <tr>\n",
       "      <th>All</th>\n",
       "      <td>47028</td>\n",
       "      <td>81118</td>\n",
       "      <td>128146</td>\n",
       "    </tr>\n",
       "  </tbody>\n",
       "</table>\n",
       "</div>"
      ],
      "text/plain": [
       "message    Interactive   Text     All\n",
       "responded                            \n",
       "False            43443  74821  118264\n",
       "True              3585   6297    9882\n",
       "All              47028  81118  128146"
      ]
     },
     "execution_count": 44,
     "metadata": {},
     "output_type": "execute_result"
    }
   ],
   "source": [
    "pd.crosstab(index=emails['responded'], columns=emails['message'], margins=True)"
   ]
  },
  {
   "cell_type": "code",
   "execution_count": 45,
   "metadata": {
    "collapsed": false
   },
   "outputs": [
    {
     "data": {
      "text/html": [
       "<div>\n",
       "<table border=\"1\" class=\"dataframe\">\n",
       "  <thead>\n",
       "    <tr style=\"text-align: right;\">\n",
       "      <th>message</th>\n",
       "      <th>Interactive</th>\n",
       "      <th>Text</th>\n",
       "      <th>All</th>\n",
       "    </tr>\n",
       "    <tr>\n",
       "      <th>responded</th>\n",
       "      <th></th>\n",
       "      <th></th>\n",
       "      <th></th>\n",
       "    </tr>\n",
       "  </thead>\n",
       "  <tbody>\n",
       "    <tr>\n",
       "      <th>False</th>\n",
       "      <td>0.923769</td>\n",
       "      <td>0.922372</td>\n",
       "      <td>0.922885</td>\n",
       "    </tr>\n",
       "    <tr>\n",
       "      <th>True</th>\n",
       "      <td>0.076231</td>\n",
       "      <td>0.077628</td>\n",
       "      <td>0.077115</td>\n",
       "    </tr>\n",
       "    <tr>\n",
       "      <th>All</th>\n",
       "      <td>1.000000</td>\n",
       "      <td>1.000000</td>\n",
       "      <td>1.000000</td>\n",
       "    </tr>\n",
       "  </tbody>\n",
       "</table>\n",
       "</div>"
      ],
      "text/plain": [
       "message    Interactive      Text       All\n",
       "responded                                 \n",
       "False         0.923769  0.922372  0.922885\n",
       "True          0.076231  0.077628  0.077115\n",
       "All           1.000000  1.000000  1.000000"
      ]
     },
     "execution_count": 45,
     "metadata": {},
     "output_type": "execute_result"
    }
   ],
   "source": [
    "tot_summary = pd.crosstab(index=emails['responded'],columns=emails['message'],margins=True)\n",
    "\n",
    "tot_summary/tot_summary.ix['All',]"
   ]
  },
  {
   "cell_type": "markdown",
   "metadata": {},
   "source": [
    "### Note:\n",
    "Overall response rate for **both Interactive and text-based emails are around 7.7%** (higher than I would have guessed). It is interesting that, as a whole, the interactive email does not seem to drive higher response rate, but there may be differences once we begin to segment by month or revenue."
   ]
  },
  {
   "cell_type": "code",
   "execution_count": 46,
   "metadata": {
    "collapsed": false
   },
   "outputs": [],
   "source": [
    "tot_sent = emails[(emails['responded']==True)].groupby(['message','month'],as_index=False)['id'].count()"
   ]
  },
  {
   "cell_type": "markdown",
   "metadata": {},
   "source": [
    "<a id= 'messages_by_month'></a>\n",
    "## Analysis of Messages by Month: Interactive vs. Text"
   ]
  },
  {
   "cell_type": "code",
   "execution_count": 47,
   "metadata": {
    "collapsed": false
   },
   "outputs": [
    {
     "data": {
      "image/png": "[encoded data removed]",
      "text/plain": [
       "<matplotlib.figure.Figure at 0x7f21709709b0>"
      ]
     },
     "metadata": {},
     "output_type": "display_data"
    }
   ],
   "source": [
    "sns.barplot(data=tot_sent,x='month', y='id', hue='message')\n",
    "plt.title('Messages by Month: Interactive vs. Text')\n",
    "plt.ylabel('Number of Messages')\n",
    "plt.xlabel('Month')\n",
    "plt.show()"
   ]
  },
  {
   "cell_type": "markdown",
   "metadata": {},
   "source": [
    "The number of Text messages have drop significantly as Interactive messages become more prevalent.  \n",
    "\n",
    "---\n"
   ]
  },
  {
   "cell_type": "code",
   "execution_count": 48,
   "metadata": {
    "collapsed": false
   },
   "outputs": [],
   "source": [
    "rate_month = \\\n",
    "    emails[(emails['responded']==True)].groupby(['message','month'])['id'].count()/ \\\n",
    "    emails[(emails['responded']==False)].groupby(['message','month'])['id'].count() \\\n",
    "\n",
    "rate_month = rate_month.to_frame()"
   ]
  },
  {
   "cell_type": "code",
   "execution_count": 49,
   "metadata": {
    "collapsed": false
   },
   "outputs": [
    {
     "data": {
      "image/png": "[encoded data removed]",
      "text/plain": [
       "<matplotlib.figure.Figure at 0x7f2170970f60>"
      ]
     },
     "metadata": {},
     "output_type": "display_data"
    }
   ],
   "source": [
    "inter_line = plt.plot(rate_month[rate_month.index.get_level_values('message')=='Interactive'].index.get_level_values('month'),\n",
    "    rate_month[rate_month.index.get_level_values('message')=='Interactive']['id'],\n",
    "    linestyle='-',marker='s',markersize=6,color='green',label='Interactive')\n",
    "\n",
    "text_line = plt.plot(rate_month[rate_month.index.get_level_values('message')=='Text'].index.get_level_values('month'),\n",
    "    rate_month[rate_month.index.get_level_values('message')=='Text']['id'],\n",
    "    linestyle='--',marker='o',markersize=5,color='blue',label='Text')\n",
    "\n",
    "avg_line = plt.plot(range(0,12),[0.077]*12,linestyle='--',color='red',label='Avg')\n",
    "\n",
    "plt.title('Response Rates by Month: Interactive vs. Text', fontsize=12)\n",
    "plt.xlabel('Month')\n",
    "plt.ylabel('Response Rate')\n",
    "plt.ylim(0.04,0.12)\n",
    "plt.xlim(0,11)\n",
    "\n",
    "plt.legend()\n",
    "plt.show()"
   ]
  },
  {
   "cell_type": "markdown",
   "metadata": {},
   "source": [
    "### Note:\n",
    "When looking at response rate over time, it appears that there is a **slight negative trend**. It is interesting that this trend is relatively consistent despite the drastic change in message distribution (interactive vs. text).  \n",
    "\n",
    "It is also interesting to note that the **interactive response rate does seem slightly higher in all but month 5**, despite having a lower overall response rate **(Simson's Paradox)**."
   ]
  },
  {
   "cell_type": "markdown",
   "metadata": {},
   "source": [
    "<a id='revenue'></a>\n",
    "## Revenue vs. Response Rates"
   ]
  },
  {
   "cell_type": "code",
   "execution_count": 50,
   "metadata": {
    "collapsed": false
   },
   "outputs": [
    {
     "data": {
      "text/html": [
       "<div>\n",
       "<table border=\"1\" class=\"dataframe\">\n",
       "  <thead>\n",
       "    <tr style=\"text-align: right;\">\n",
       "      <th></th>\n",
       "      <th>responded</th>\n",
       "    </tr>\n",
       "  </thead>\n",
       "  <tbody>\n",
       "    <tr>\n",
       "      <th>count</th>\n",
       "      <td>19987.000000</td>\n",
       "    </tr>\n",
       "    <tr>\n",
       "      <th>mean</th>\n",
       "      <td>6.411467</td>\n",
       "    </tr>\n",
       "    <tr>\n",
       "      <th>std</th>\n",
       "      <td>3.897453</td>\n",
       "    </tr>\n",
       "    <tr>\n",
       "      <th>min</th>\n",
       "      <td>1.000000</td>\n",
       "    </tr>\n",
       "    <tr>\n",
       "      <th>25%</th>\n",
       "      <td>3.000000</td>\n",
       "    </tr>\n",
       "    <tr>\n",
       "      <th>50%</th>\n",
       "      <td>6.000000</td>\n",
       "    </tr>\n",
       "    <tr>\n",
       "      <th>75%</th>\n",
       "      <td>9.000000</td>\n",
       "    </tr>\n",
       "    <tr>\n",
       "      <th>max</th>\n",
       "      <td>24.000000</td>\n",
       "    </tr>\n",
       "  </tbody>\n",
       "</table>\n",
       "</div>"
      ],
      "text/plain": [
       "          responded\n",
       "count  19987.000000\n",
       "mean       6.411467\n",
       "std        3.897453\n",
       "min        1.000000\n",
       "25%        3.000000\n",
       "50%        6.000000\n",
       "75%        9.000000\n",
       "max       24.000000"
      ]
     },
     "execution_count": 50,
     "metadata": {},
     "output_type": "execute_result"
    }
   ],
   "source": [
    "temp = emails[['unique_id','responded']].groupby('unique_id').count()\n",
    "temp.describe()"
   ]
  },
  {
   "cell_type": "code",
   "execution_count": 51,
   "metadata": {
    "collapsed": false
   },
   "outputs": [],
   "source": [
    "bus_emails = emails[['unique_id','message','responded','id']] \\\n",
    "    .groupby(['unique_id','message','responded']) \\\n",
    "    .count()"
   ]
  },
  {
   "cell_type": "code",
   "execution_count": 52,
   "metadata": {
    "collapsed": false
   },
   "outputs": [],
   "source": [
    "bus_emails = bus_emails.unstack().unstack().fillna(value=0)"
   ]
  },
  {
   "cell_type": "code",
   "execution_count": 53,
   "metadata": {
    "collapsed": false
   },
   "outputs": [
    {
     "data": {
      "text/html": [
       "<div>\n",
       "<table border=\"1\" class=\"dataframe\">\n",
       "  <thead>\n",
       "    <tr>\n",
       "      <th></th>\n",
       "      <th colspan=\"4\" halign=\"left\">id</th>\n",
       "    </tr>\n",
       "    <tr>\n",
       "      <th>responded</th>\n",
       "      <th colspan=\"2\" halign=\"left\">False</th>\n",
       "      <th colspan=\"2\" halign=\"left\">True</th>\n",
       "    </tr>\n",
       "    <tr>\n",
       "      <th>message</th>\n",
       "      <th>Interactive</th>\n",
       "      <th>Text</th>\n",
       "      <th>Interactive</th>\n",
       "      <th>Text</th>\n",
       "    </tr>\n",
       "    <tr>\n",
       "      <th>unique_id</th>\n",
       "      <th></th>\n",
       "      <th></th>\n",
       "      <th></th>\n",
       "      <th></th>\n",
       "    </tr>\n",
       "  </thead>\n",
       "  <tbody>\n",
       "    <tr>\n",
       "      <th>1</th>\n",
       "      <td>5.0</td>\n",
       "      <td>4.0</td>\n",
       "      <td>0.0</td>\n",
       "      <td>0.0</td>\n",
       "    </tr>\n",
       "    <tr>\n",
       "      <th>2</th>\n",
       "      <td>1.0</td>\n",
       "      <td>2.0</td>\n",
       "      <td>1.0</td>\n",
       "      <td>0.0</td>\n",
       "    </tr>\n",
       "    <tr>\n",
       "      <th>3</th>\n",
       "      <td>1.0</td>\n",
       "      <td>1.0</td>\n",
       "      <td>0.0</td>\n",
       "      <td>1.0</td>\n",
       "    </tr>\n",
       "    <tr>\n",
       "      <th>4</th>\n",
       "      <td>0.0</td>\n",
       "      <td>0.0</td>\n",
       "      <td>0.0</td>\n",
       "      <td>1.0</td>\n",
       "    </tr>\n",
       "    <tr>\n",
       "      <th>5</th>\n",
       "      <td>8.0</td>\n",
       "      <td>5.0</td>\n",
       "      <td>0.0</td>\n",
       "      <td>0.0</td>\n",
       "    </tr>\n",
       "  </tbody>\n",
       "</table>\n",
       "</div>"
      ],
      "text/plain": [
       "                   id                      \n",
       "responded       False            True      \n",
       "message   Interactive Text Interactive Text\n",
       "unique_id                                  \n",
       "1                 5.0  4.0         0.0  0.0\n",
       "2                 1.0  2.0         1.0  0.0\n",
       "3                 1.0  1.0         0.0  1.0\n",
       "4                 0.0  0.0         0.0  1.0\n",
       "5                 8.0  5.0         0.0  0.0"
      ]
     },
     "execution_count": 53,
     "metadata": {},
     "output_type": "execute_result"
    }
   ],
   "source": [
    "bus_emails.head()"
   ]
  },
  {
   "cell_type": "code",
   "execution_count": 54,
   "metadata": {
    "collapsed": true
   },
   "outputs": [],
   "source": [
    "revenue.index = revenue['unique_id']"
   ]
  },
  {
   "cell_type": "code",
   "execution_count": 55,
   "metadata": {
    "collapsed": false
   },
   "outputs": [],
   "source": [
    "bus_emails = pd.merge(bus_emails, revenue, how='inner', left_index=True, right_index=True)\n",
    "bus_emails.columns = ['interactive_false','text_false','interactive_true','text_true','unique_id','revenue']\n",
    "bus_emails.drop('unique_id',axis=1,inplace=True)"
   ]
  },
  {
   "cell_type": "code",
   "execution_count": 56,
   "metadata": {
    "collapsed": false
   },
   "outputs": [
    {
     "data": {
      "text/html": [
       "<div>\n",
       "<table border=\"1\" class=\"dataframe\">\n",
       "  <thead>\n",
       "    <tr style=\"text-align: right;\">\n",
       "      <th></th>\n",
       "      <th>interactive_false</th>\n",
       "      <th>text_false</th>\n",
       "      <th>interactive_true</th>\n",
       "      <th>text_true</th>\n",
       "      <th>revenue</th>\n",
       "    </tr>\n",
       "    <tr>\n",
       "      <th>unique_id</th>\n",
       "      <th></th>\n",
       "      <th></th>\n",
       "      <th></th>\n",
       "      <th></th>\n",
       "      <th></th>\n",
       "    </tr>\n",
       "  </thead>\n",
       "  <tbody>\n",
       "    <tr>\n",
       "      <th>1</th>\n",
       "      <td>5.0</td>\n",
       "      <td>4.0</td>\n",
       "      <td>0.0</td>\n",
       "      <td>0.0</td>\n",
       "      <td>925944.0</td>\n",
       "    </tr>\n",
       "    <tr>\n",
       "      <th>2</th>\n",
       "      <td>1.0</td>\n",
       "      <td>2.0</td>\n",
       "      <td>1.0</td>\n",
       "      <td>0.0</td>\n",
       "      <td>203226.0</td>\n",
       "    </tr>\n",
       "    <tr>\n",
       "      <th>3</th>\n",
       "      <td>1.0</td>\n",
       "      <td>1.0</td>\n",
       "      <td>0.0</td>\n",
       "      <td>1.0</td>\n",
       "      <td>147764.0</td>\n",
       "    </tr>\n",
       "    <tr>\n",
       "      <th>4</th>\n",
       "      <td>0.0</td>\n",
       "      <td>0.0</td>\n",
       "      <td>0.0</td>\n",
       "      <td>1.0</td>\n",
       "      <td>360617.0</td>\n",
       "    </tr>\n",
       "    <tr>\n",
       "      <th>5</th>\n",
       "      <td>8.0</td>\n",
       "      <td>5.0</td>\n",
       "      <td>0.0</td>\n",
       "      <td>0.0</td>\n",
       "      <td>465957.0</td>\n",
       "    </tr>\n",
       "  </tbody>\n",
       "</table>\n",
       "</div>"
      ],
      "text/plain": [
       "           interactive_false  text_false  interactive_true  text_true  \\\n",
       "unique_id                                                               \n",
       "1                        5.0         4.0               0.0        0.0   \n",
       "2                        1.0         2.0               1.0        0.0   \n",
       "3                        1.0         1.0               0.0        1.0   \n",
       "4                        0.0         0.0               0.0        1.0   \n",
       "5                        8.0         5.0               0.0        0.0   \n",
       "\n",
       "            revenue  \n",
       "unique_id            \n",
       "1          925944.0  \n",
       "2          203226.0  \n",
       "3          147764.0  \n",
       "4          360617.0  \n",
       "5          465957.0  "
      ]
     },
     "execution_count": 56,
     "metadata": {},
     "output_type": "execute_result"
    }
   ],
   "source": [
    "bus_emails.head()"
   ]
  },
  {
   "cell_type": "code",
   "execution_count": 57,
   "metadata": {
    "collapsed": true
   },
   "outputs": [],
   "source": [
    "bus_emails['rev_bin'] = pd.cut(bus_emails['revenue'],50)"
   ]
  },
  {
   "cell_type": "code",
   "execution_count": 58,
   "metadata": {
    "collapsed": false
   },
   "outputs": [
    {
     "data": {
      "text/html": [
       "<div>\n",
       "<table border=\"1\" class=\"dataframe\">\n",
       "  <thead>\n",
       "    <tr style=\"text-align: right;\">\n",
       "      <th></th>\n",
       "      <th>interactive_false</th>\n",
       "      <th>text_false</th>\n",
       "      <th>interactive_true</th>\n",
       "      <th>text_true</th>\n",
       "      <th>revenue</th>\n",
       "      <th>rev_bin</th>\n",
       "    </tr>\n",
       "    <tr>\n",
       "      <th>unique_id</th>\n",
       "      <th></th>\n",
       "      <th></th>\n",
       "      <th></th>\n",
       "      <th></th>\n",
       "      <th></th>\n",
       "      <th></th>\n",
       "    </tr>\n",
       "  </thead>\n",
       "  <tbody>\n",
       "    <tr>\n",
       "      <th>1</th>\n",
       "      <td>5.0</td>\n",
       "      <td>4.0</td>\n",
       "      <td>0.0</td>\n",
       "      <td>0.0</td>\n",
       "      <td>925944.0</td>\n",
       "      <td>(916183.84, 951421.68]</td>\n",
       "    </tr>\n",
       "    <tr>\n",
       "      <th>2</th>\n",
       "      <td>1.0</td>\n",
       "      <td>2.0</td>\n",
       "      <td>1.0</td>\n",
       "      <td>0.0</td>\n",
       "      <td>203226.0</td>\n",
       "      <td>(176189.2, 211427.04]</td>\n",
       "    </tr>\n",
       "    <tr>\n",
       "      <th>3</th>\n",
       "      <td>1.0</td>\n",
       "      <td>1.0</td>\n",
       "      <td>0.0</td>\n",
       "      <td>1.0</td>\n",
       "      <td>147764.0</td>\n",
       "      <td>(140951.36, 176189.2]</td>\n",
       "    </tr>\n",
       "    <tr>\n",
       "      <th>4</th>\n",
       "      <td>0.0</td>\n",
       "      <td>0.0</td>\n",
       "      <td>0.0</td>\n",
       "      <td>1.0</td>\n",
       "      <td>360617.0</td>\n",
       "      <td>(352378.4, 387616.24]</td>\n",
       "    </tr>\n",
       "    <tr>\n",
       "      <th>5</th>\n",
       "      <td>8.0</td>\n",
       "      <td>5.0</td>\n",
       "      <td>0.0</td>\n",
       "      <td>0.0</td>\n",
       "      <td>465957.0</td>\n",
       "      <td>(458091.92, 493329.76]</td>\n",
       "    </tr>\n",
       "  </tbody>\n",
       "</table>\n",
       "</div>"
      ],
      "text/plain": [
       "           interactive_false  text_false  interactive_true  text_true  \\\n",
       "unique_id                                                               \n",
       "1                        5.0         4.0               0.0        0.0   \n",
       "2                        1.0         2.0               1.0        0.0   \n",
       "3                        1.0         1.0               0.0        1.0   \n",
       "4                        0.0         0.0               0.0        1.0   \n",
       "5                        8.0         5.0               0.0        0.0   \n",
       "\n",
       "            revenue                 rev_bin  \n",
       "unique_id                                    \n",
       "1          925944.0  (916183.84, 951421.68]  \n",
       "2          203226.0   (176189.2, 211427.04]  \n",
       "3          147764.0   (140951.36, 176189.2]  \n",
       "4          360617.0   (352378.4, 387616.24]  \n",
       "5          465957.0  (458091.92, 493329.76]  "
      ]
     },
     "execution_count": 58,
     "metadata": {},
     "output_type": "execute_result"
    }
   ],
   "source": [
    "bus_emails.head()"
   ]
  },
  {
   "cell_type": "code",
   "execution_count": 59,
   "metadata": {
    "collapsed": true
   },
   "outputs": [],
   "source": [
    "bus_emails['interactive_rate'] = bus_emails['interactive_true']/(bus_emails['interactive_true']+bus_emails['interactive_false'])\n",
    "bus_emails['text_rate'] = bus_emails['text_true']/(bus_emails['text_true']+bus_emails['text_false'])"
   ]
  },
  {
   "cell_type": "code",
   "execution_count": 60,
   "metadata": {
    "collapsed": true
   },
   "outputs": [],
   "source": [
    "rev_bin_response = bus_emails.groupby('rev_bin').sum()\n",
    "rev_bin_response['interactive_rate'] = rev_bin_response['interactive_true']/(rev_bin_response['interactive_true']+rev_bin_response['interactive_false'])\n",
    "rev_bin_response['text_rate'] = rev_bin_response['text_true']/(rev_bin_response['text_true']+rev_bin_response['text_false'])"
   ]
  },
  {
   "cell_type": "code",
   "execution_count": 61,
   "metadata": {
    "collapsed": false
   },
   "outputs": [
    {
     "data": {
      "text/html": [
       "<div>\n",
       "<table border=\"1\" class=\"dataframe\">\n",
       "  <thead>\n",
       "    <tr style=\"text-align: right;\">\n",
       "      <th></th>\n",
       "      <th>interactive_false</th>\n",
       "      <th>text_false</th>\n",
       "      <th>interactive_true</th>\n",
       "      <th>text_true</th>\n",
       "      <th>revenue</th>\n",
       "      <th>interactive_rate</th>\n",
       "      <th>text_rate</th>\n",
       "    </tr>\n",
       "    <tr>\n",
       "      <th>rev_bin</th>\n",
       "      <th></th>\n",
       "      <th></th>\n",
       "      <th></th>\n",
       "      <th></th>\n",
       "      <th></th>\n",
       "      <th></th>\n",
       "      <th></th>\n",
       "    </tr>\n",
       "  </thead>\n",
       "  <tbody>\n",
       "    <tr>\n",
       "      <th>(-1761.892, 35237.84]</th>\n",
       "      <td>4519.0</td>\n",
       "      <td>7383.0</td>\n",
       "      <td>360.0</td>\n",
       "      <td>627.0</td>\n",
       "      <td>0.0</td>\n",
       "      <td>0.073786</td>\n",
       "      <td>0.078277</td>\n",
       "    </tr>\n",
       "    <tr>\n",
       "      <th>(35237.84, 70475.68]</th>\n",
       "      <td>228.0</td>\n",
       "      <td>424.0</td>\n",
       "      <td>21.0</td>\n",
       "      <td>40.0</td>\n",
       "      <td>5711514.0</td>\n",
       "      <td>0.084337</td>\n",
       "      <td>0.086207</td>\n",
       "    </tr>\n",
       "    <tr>\n",
       "      <th>(70475.68, 105713.52]</th>\n",
       "      <td>2417.0</td>\n",
       "      <td>4364.0</td>\n",
       "      <td>231.0</td>\n",
       "      <td>441.0</td>\n",
       "      <td>120889815.0</td>\n",
       "      <td>0.087236</td>\n",
       "      <td>0.091779</td>\n",
       "    </tr>\n",
       "    <tr>\n",
       "      <th>(105713.52, 140951.36]</th>\n",
       "      <td>3803.0</td>\n",
       "      <td>6818.0</td>\n",
       "      <td>350.0</td>\n",
       "      <td>694.0</td>\n",
       "      <td>236378359.0</td>\n",
       "      <td>0.084276</td>\n",
       "      <td>0.092386</td>\n",
       "    </tr>\n",
       "    <tr>\n",
       "      <th>(140951.36, 176189.2]</th>\n",
       "      <td>2730.0</td>\n",
       "      <td>5050.0</td>\n",
       "      <td>270.0</td>\n",
       "      <td>479.0</td>\n",
       "      <td>215427259.0</td>\n",
       "      <td>0.090000</td>\n",
       "      <td>0.086634</td>\n",
       "    </tr>\n",
       "    <tr>\n",
       "      <th>(176189.2, 211427.04]</th>\n",
       "      <td>2053.0</td>\n",
       "      <td>3554.0</td>\n",
       "      <td>196.0</td>\n",
       "      <td>377.0</td>\n",
       "      <td>193397752.0</td>\n",
       "      <td>0.087150</td>\n",
       "      <td>0.095904</td>\n",
       "    </tr>\n",
       "    <tr>\n",
       "      <th>(211427.04, 246664.88]</th>\n",
       "      <td>1691.0</td>\n",
       "      <td>2983.0</td>\n",
       "      <td>174.0</td>\n",
       "      <td>306.0</td>\n",
       "      <td>190877656.0</td>\n",
       "      <td>0.093298</td>\n",
       "      <td>0.093037</td>\n",
       "    </tr>\n",
       "    <tr>\n",
       "      <th>(246664.88, 281902.72]</th>\n",
       "      <td>1464.0</td>\n",
       "      <td>2694.0</td>\n",
       "      <td>156.0</td>\n",
       "      <td>298.0</td>\n",
       "      <td>200834164.0</td>\n",
       "      <td>0.096296</td>\n",
       "      <td>0.099599</td>\n",
       "    </tr>\n",
       "    <tr>\n",
       "      <th>(281902.72, 317140.56]</th>\n",
       "      <td>1331.0</td>\n",
       "      <td>2353.0</td>\n",
       "      <td>144.0</td>\n",
       "      <td>251.0</td>\n",
       "      <td>201398653.0</td>\n",
       "      <td>0.097627</td>\n",
       "      <td>0.096390</td>\n",
       "    </tr>\n",
       "    <tr>\n",
       "      <th>(317140.56, 352378.4]</th>\n",
       "      <td>1259.0</td>\n",
       "      <td>2254.0</td>\n",
       "      <td>123.0</td>\n",
       "      <td>213.0</td>\n",
       "      <td>206529402.0</td>\n",
       "      <td>0.089001</td>\n",
       "      <td>0.086340</td>\n",
       "    </tr>\n",
       "    <tr>\n",
       "      <th>(352378.4, 387616.24]</th>\n",
       "      <td>1172.0</td>\n",
       "      <td>2159.0</td>\n",
       "      <td>112.0</td>\n",
       "      <td>178.0</td>\n",
       "      <td>208549058.0</td>\n",
       "      <td>0.087227</td>\n",
       "      <td>0.076166</td>\n",
       "    </tr>\n",
       "    <tr>\n",
       "      <th>(387616.24, 422854.08]</th>\n",
       "      <td>1152.0</td>\n",
       "      <td>1990.0</td>\n",
       "      <td>101.0</td>\n",
       "      <td>180.0</td>\n",
       "      <td>220923277.0</td>\n",
       "      <td>0.080607</td>\n",
       "      <td>0.082949</td>\n",
       "    </tr>\n",
       "    <tr>\n",
       "      <th>(422854.08, 458091.92]</th>\n",
       "      <td>1008.0</td>\n",
       "      <td>1865.0</td>\n",
       "      <td>92.0</td>\n",
       "      <td>178.0</td>\n",
       "      <td>222517385.0</td>\n",
       "      <td>0.083636</td>\n",
       "      <td>0.087127</td>\n",
       "    </tr>\n",
       "    <tr>\n",
       "      <th>(458091.92, 493329.76]</th>\n",
       "      <td>1020.0</td>\n",
       "      <td>1778.0</td>\n",
       "      <td>95.0</td>\n",
       "      <td>151.0</td>\n",
       "      <td>221067106.0</td>\n",
       "      <td>0.085202</td>\n",
       "      <td>0.078279</td>\n",
       "    </tr>\n",
       "    <tr>\n",
       "      <th>(493329.76, 528567.6]</th>\n",
       "      <td>874.0</td>\n",
       "      <td>1637.0</td>\n",
       "      <td>92.0</td>\n",
       "      <td>148.0</td>\n",
       "      <td>222203403.0</td>\n",
       "      <td>0.095238</td>\n",
       "      <td>0.082913</td>\n",
       "    </tr>\n",
       "    <tr>\n",
       "      <th>(528567.6, 563805.44]</th>\n",
       "      <td>1091.0</td>\n",
       "      <td>1938.0</td>\n",
       "      <td>94.0</td>\n",
       "      <td>138.0</td>\n",
       "      <td>264295081.0</td>\n",
       "      <td>0.079325</td>\n",
       "      <td>0.066474</td>\n",
       "    </tr>\n",
       "    <tr>\n",
       "      <th>(563805.44, 599043.28]</th>\n",
       "      <td>1031.0</td>\n",
       "      <td>1728.0</td>\n",
       "      <td>88.0</td>\n",
       "      <td>118.0</td>\n",
       "      <td>247635775.0</td>\n",
       "      <td>0.078642</td>\n",
       "      <td>0.063922</td>\n",
       "    </tr>\n",
       "    <tr>\n",
       "      <th>(599043.28, 634281.12]</th>\n",
       "      <td>904.0</td>\n",
       "      <td>1603.0</td>\n",
       "      <td>78.0</td>\n",
       "      <td>128.0</td>\n",
       "      <td>255277768.0</td>\n",
       "      <td>0.079430</td>\n",
       "      <td>0.073946</td>\n",
       "    </tr>\n",
       "    <tr>\n",
       "      <th>(634281.12, 669518.96]</th>\n",
       "      <td>938.0</td>\n",
       "      <td>1640.0</td>\n",
       "      <td>74.0</td>\n",
       "      <td>143.0</td>\n",
       "      <td>286608700.0</td>\n",
       "      <td>0.073123</td>\n",
       "      <td>0.080202</td>\n",
       "    </tr>\n",
       "    <tr>\n",
       "      <th>(669518.96, 704756.8]</th>\n",
       "      <td>1006.0</td>\n",
       "      <td>1754.0</td>\n",
       "      <td>64.0</td>\n",
       "      <td>120.0</td>\n",
       "      <td>290470048.0</td>\n",
       "      <td>0.059813</td>\n",
       "      <td>0.064034</td>\n",
       "    </tr>\n",
       "    <tr>\n",
       "      <th>(704756.8, 739994.64]</th>\n",
       "      <td>844.0</td>\n",
       "      <td>1341.0</td>\n",
       "      <td>52.0</td>\n",
       "      <td>84.0</td>\n",
       "      <td>250051305.0</td>\n",
       "      <td>0.058036</td>\n",
       "      <td>0.058947</td>\n",
       "    </tr>\n",
       "    <tr>\n",
       "      <th>(739994.64, 775232.48]</th>\n",
       "      <td>901.0</td>\n",
       "      <td>1429.0</td>\n",
       "      <td>50.0</td>\n",
       "      <td>98.0</td>\n",
       "      <td>277489694.0</td>\n",
       "      <td>0.052576</td>\n",
       "      <td>0.064178</td>\n",
       "    </tr>\n",
       "    <tr>\n",
       "      <th>(775232.48, 810470.32]</th>\n",
       "      <td>842.0</td>\n",
       "      <td>1467.0</td>\n",
       "      <td>44.0</td>\n",
       "      <td>85.0</td>\n",
       "      <td>269548359.0</td>\n",
       "      <td>0.049661</td>\n",
       "      <td>0.054768</td>\n",
       "    </tr>\n",
       "    <tr>\n",
       "      <th>(810470.32, 845708.16]</th>\n",
       "      <td>770.0</td>\n",
       "      <td>1343.0</td>\n",
       "      <td>56.0</td>\n",
       "      <td>82.0</td>\n",
       "      <td>262817306.0</td>\n",
       "      <td>0.067797</td>\n",
       "      <td>0.057544</td>\n",
       "    </tr>\n",
       "    <tr>\n",
       "      <th>(845708.16, 880946]</th>\n",
       "      <td>871.0</td>\n",
       "      <td>1435.0</td>\n",
       "      <td>50.0</td>\n",
       "      <td>86.0</td>\n",
       "      <td>295115269.0</td>\n",
       "      <td>0.054289</td>\n",
       "      <td>0.056542</td>\n",
       "    </tr>\n",
       "    <tr>\n",
       "      <th>(880946, 916183.84]</th>\n",
       "      <td>783.0</td>\n",
       "      <td>1287.0</td>\n",
       "      <td>57.0</td>\n",
       "      <td>77.0</td>\n",
       "      <td>283131068.0</td>\n",
       "      <td>0.067857</td>\n",
       "      <td>0.056452</td>\n",
       "    </tr>\n",
       "    <tr>\n",
       "      <th>(916183.84, 951421.68]</th>\n",
       "      <td>803.0</td>\n",
       "      <td>1324.0</td>\n",
       "      <td>48.0</td>\n",
       "      <td>71.0</td>\n",
       "      <td>304677263.0</td>\n",
       "      <td>0.056404</td>\n",
       "      <td>0.050896</td>\n",
       "    </tr>\n",
       "    <tr>\n",
       "      <th>(951421.68, 986659.52]</th>\n",
       "      <td>736.0</td>\n",
       "      <td>1178.0</td>\n",
       "      <td>40.0</td>\n",
       "      <td>78.0</td>\n",
       "      <td>297381403.0</td>\n",
       "      <td>0.051546</td>\n",
       "      <td>0.062102</td>\n",
       "    </tr>\n",
       "    <tr>\n",
       "      <th>(986659.52, 1021897.36]</th>\n",
       "      <td>668.0</td>\n",
       "      <td>1103.0</td>\n",
       "      <td>41.0</td>\n",
       "      <td>71.0</td>\n",
       "      <td>287345708.0</td>\n",
       "      <td>0.057828</td>\n",
       "      <td>0.060477</td>\n",
       "    </tr>\n",
       "    <tr>\n",
       "      <th>(1021897.36, 1057135.2]</th>\n",
       "      <td>676.0</td>\n",
       "      <td>1034.0</td>\n",
       "      <td>38.0</td>\n",
       "      <td>54.0</td>\n",
       "      <td>275813189.0</td>\n",
       "      <td>0.053221</td>\n",
       "      <td>0.049632</td>\n",
       "    </tr>\n",
       "    <tr>\n",
       "      <th>(1057135.2, 1092373.04]</th>\n",
       "      <td>724.0</td>\n",
       "      <td>1073.0</td>\n",
       "      <td>28.0</td>\n",
       "      <td>53.0</td>\n",
       "      <td>283695690.0</td>\n",
       "      <td>0.037234</td>\n",
       "      <td>0.047069</td>\n",
       "    </tr>\n",
       "    <tr>\n",
       "      <th>(1092373.04, 1127610.88]</th>\n",
       "      <td>728.0</td>\n",
       "      <td>1111.0</td>\n",
       "      <td>39.0</td>\n",
       "      <td>44.0</td>\n",
       "      <td>291833537.0</td>\n",
       "      <td>0.050847</td>\n",
       "      <td>0.038095</td>\n",
       "    </tr>\n",
       "    <tr>\n",
       "      <th>(1127610.88, 1162848.72]</th>\n",
       "      <td>708.0</td>\n",
       "      <td>1023.0</td>\n",
       "      <td>30.0</td>\n",
       "      <td>55.0</td>\n",
       "      <td>299832433.0</td>\n",
       "      <td>0.040650</td>\n",
       "      <td>0.051020</td>\n",
       "    </tr>\n",
       "    <tr>\n",
       "      <th>(1162848.72, 1198086.56]</th>\n",
       "      <td>583.0</td>\n",
       "      <td>930.0</td>\n",
       "      <td>39.0</td>\n",
       "      <td>60.0</td>\n",
       "      <td>283196449.0</td>\n",
       "      <td>0.062701</td>\n",
       "      <td>0.060606</td>\n",
       "    </tr>\n",
       "    <tr>\n",
       "      <th>(1198086.56, 1233324.4]</th>\n",
       "      <td>152.0</td>\n",
       "      <td>243.0</td>\n",
       "      <td>7.0</td>\n",
       "      <td>17.0</td>\n",
       "      <td>58179996.0</td>\n",
       "      <td>0.044025</td>\n",
       "      <td>0.065385</td>\n",
       "    </tr>\n",
       "    <tr>\n",
       "      <th>(1233324.4, 1268562.24]</th>\n",
       "      <td>97.0</td>\n",
       "      <td>149.0</td>\n",
       "      <td>8.0</td>\n",
       "      <td>9.0</td>\n",
       "      <td>38725014.0</td>\n",
       "      <td>0.076190</td>\n",
       "      <td>0.056962</td>\n",
       "    </tr>\n",
       "    <tr>\n",
       "      <th>(1268562.24, 1303800.08]</th>\n",
       "      <td>113.0</td>\n",
       "      <td>242.0</td>\n",
       "      <td>6.0</td>\n",
       "      <td>10.0</td>\n",
       "      <td>47603849.0</td>\n",
       "      <td>0.050420</td>\n",
       "      <td>0.039683</td>\n",
       "    </tr>\n",
       "    <tr>\n",
       "      <th>(1303800.08, 1339037.92]</th>\n",
       "      <td>106.0</td>\n",
       "      <td>169.0</td>\n",
       "      <td>7.0</td>\n",
       "      <td>10.0</td>\n",
       "      <td>46176480.0</td>\n",
       "      <td>0.061947</td>\n",
       "      <td>0.055866</td>\n",
       "    </tr>\n",
       "    <tr>\n",
       "      <th>(1339037.92, 1374275.76]</th>\n",
       "      <td>114.0</td>\n",
       "      <td>184.0</td>\n",
       "      <td>4.0</td>\n",
       "      <td>11.0</td>\n",
       "      <td>48946417.0</td>\n",
       "      <td>0.033898</td>\n",
       "      <td>0.056410</td>\n",
       "    </tr>\n",
       "    <tr>\n",
       "      <th>(1374275.76, 1409513.6]</th>\n",
       "      <td>91.0</td>\n",
       "      <td>124.0</td>\n",
       "      <td>5.0</td>\n",
       "      <td>3.0</td>\n",
       "      <td>33359299.0</td>\n",
       "      <td>0.052083</td>\n",
       "      <td>0.023622</td>\n",
       "    </tr>\n",
       "    <tr>\n",
       "      <th>(1409513.6, 1444751.44]</th>\n",
       "      <td>79.0</td>\n",
       "      <td>116.0</td>\n",
       "      <td>3.0</td>\n",
       "      <td>9.0</td>\n",
       "      <td>37107856.0</td>\n",
       "      <td>0.036585</td>\n",
       "      <td>0.072000</td>\n",
       "    </tr>\n",
       "    <tr>\n",
       "      <th>(1444751.44, 1479989.28]</th>\n",
       "      <td>119.0</td>\n",
       "      <td>158.0</td>\n",
       "      <td>5.0</td>\n",
       "      <td>4.0</td>\n",
       "      <td>42395622.0</td>\n",
       "      <td>0.040323</td>\n",
       "      <td>0.024691</td>\n",
       "    </tr>\n",
       "    <tr>\n",
       "      <th>(1479989.28, 1515227.12]</th>\n",
       "      <td>49.0</td>\n",
       "      <td>84.0</td>\n",
       "      <td>3.0</td>\n",
       "      <td>3.0</td>\n",
       "      <td>19422111.0</td>\n",
       "      <td>0.057692</td>\n",
       "      <td>0.034483</td>\n",
       "    </tr>\n",
       "    <tr>\n",
       "      <th>(1515227.12, 1550464.96]</th>\n",
       "      <td>34.0</td>\n",
       "      <td>65.0</td>\n",
       "      <td>2.0</td>\n",
       "      <td>4.0</td>\n",
       "      <td>18393797.0</td>\n",
       "      <td>0.055556</td>\n",
       "      <td>0.057971</td>\n",
       "    </tr>\n",
       "    <tr>\n",
       "      <th>(1550464.96, 1585702.8]</th>\n",
       "      <td>45.0</td>\n",
       "      <td>68.0</td>\n",
       "      <td>2.0</td>\n",
       "      <td>4.0</td>\n",
       "      <td>20344564.0</td>\n",
       "      <td>0.042553</td>\n",
       "      <td>0.055556</td>\n",
       "    </tr>\n",
       "    <tr>\n",
       "      <th>(1585702.8, 1620940.64]</th>\n",
       "      <td>27.0</td>\n",
       "      <td>47.0</td>\n",
       "      <td>2.0</td>\n",
       "      <td>3.0</td>\n",
       "      <td>12822673.0</td>\n",
       "      <td>0.068966</td>\n",
       "      <td>0.060000</td>\n",
       "    </tr>\n",
       "    <tr>\n",
       "      <th>(1620940.64, 1656178.48]</th>\n",
       "      <td>27.0</td>\n",
       "      <td>18.0</td>\n",
       "      <td>0.0</td>\n",
       "      <td>3.0</td>\n",
       "      <td>11452141.0</td>\n",
       "      <td>0.000000</td>\n",
       "      <td>0.142857</td>\n",
       "    </tr>\n",
       "    <tr>\n",
       "      <th>(1656178.48, 1691416.32]</th>\n",
       "      <td>26.0</td>\n",
       "      <td>31.0</td>\n",
       "      <td>1.0</td>\n",
       "      <td>1.0</td>\n",
       "      <td>10060616.0</td>\n",
       "      <td>0.037037</td>\n",
       "      <td>0.031250</td>\n",
       "    </tr>\n",
       "    <tr>\n",
       "      <th>(1691416.32, 1726654.16]</th>\n",
       "      <td>24.0</td>\n",
       "      <td>50.0</td>\n",
       "      <td>2.0</td>\n",
       "      <td>0.0</td>\n",
       "      <td>12006810.0</td>\n",
       "      <td>0.076923</td>\n",
       "      <td>0.000000</td>\n",
       "    </tr>\n",
       "    <tr>\n",
       "      <th>(1726654.16, 1761892]</th>\n",
       "      <td>12.0</td>\n",
       "      <td>26.0</td>\n",
       "      <td>1.0</td>\n",
       "      <td>0.0</td>\n",
       "      <td>5229040.0</td>\n",
       "      <td>0.076923</td>\n",
       "      <td>0.000000</td>\n",
       "    </tr>\n",
       "  </tbody>\n",
       "</table>\n",
       "</div>"
      ],
      "text/plain": [
       "                          interactive_false  text_false  interactive_true  \\\n",
       "rev_bin                                                                     \n",
       "(-1761.892, 35237.84]                4519.0      7383.0             360.0   \n",
       "(35237.84, 70475.68]                  228.0       424.0              21.0   \n",
       "(70475.68, 105713.52]                2417.0      4364.0             231.0   \n",
       "(105713.52, 140951.36]               3803.0      6818.0             350.0   \n",
       "(140951.36, 176189.2]                2730.0      5050.0             270.0   \n",
       "(176189.2, 211427.04]                2053.0      3554.0             196.0   \n",
       "(211427.04, 246664.88]               1691.0      2983.0             174.0   \n",
       "(246664.88, 281902.72]               1464.0      2694.0             156.0   \n",
       "(281902.72, 317140.56]               1331.0      2353.0             144.0   \n",
       "(317140.56, 352378.4]                1259.0      2254.0             123.0   \n",
       "(352378.4, 387616.24]                1172.0      2159.0             112.0   \n",
       "(387616.24, 422854.08]               1152.0      1990.0             101.0   \n",
       "(422854.08, 458091.92]               1008.0      1865.0              92.0   \n",
       "(458091.92, 493329.76]               1020.0      1778.0              95.0   \n",
       "(493329.76, 528567.6]                 874.0      1637.0              92.0   \n",
       "(528567.6, 563805.44]                1091.0      1938.0              94.0   \n",
       "(563805.44, 599043.28]               1031.0      1728.0              88.0   \n",
       "(599043.28, 634281.12]                904.0      1603.0              78.0   \n",
       "(634281.12, 669518.96]                938.0      1640.0              74.0   \n",
       "(669518.96, 704756.8]                1006.0      1754.0              64.0   \n",
       "(704756.8, 739994.64]                 844.0      1341.0              52.0   \n",
       "(739994.64, 775232.48]                901.0      1429.0              50.0   \n",
       "(775232.48, 810470.32]                842.0      1467.0              44.0   \n",
       "(810470.32, 845708.16]                770.0      1343.0              56.0   \n",
       "(845708.16, 880946]                   871.0      1435.0              50.0   \n",
       "(880946, 916183.84]                   783.0      1287.0              57.0   \n",
       "(916183.84, 951421.68]                803.0      1324.0              48.0   \n",
       "(951421.68, 986659.52]                736.0      1178.0              40.0   \n",
       "(986659.52, 1021897.36]               668.0      1103.0              41.0   \n",
       "(1021897.36, 1057135.2]               676.0      1034.0              38.0   \n",
       "(1057135.2, 1092373.04]               724.0      1073.0              28.0   \n",
       "(1092373.04, 1127610.88]              728.0      1111.0              39.0   \n",
       "(1127610.88, 1162848.72]              708.0      1023.0              30.0   \n",
       "(1162848.72, 1198086.56]              583.0       930.0              39.0   \n",
       "(1198086.56, 1233324.4]               152.0       243.0               7.0   \n",
       "(1233324.4, 1268562.24]                97.0       149.0               8.0   \n",
       "(1268562.24, 1303800.08]              113.0       242.0               6.0   \n",
       "(1303800.08, 1339037.92]              106.0       169.0               7.0   \n",
       "(1339037.92, 1374275.76]              114.0       184.0               4.0   \n",
       "(1374275.76, 1409513.6]                91.0       124.0               5.0   \n",
       "(1409513.6, 1444751.44]                79.0       116.0               3.0   \n",
       "(1444751.44, 1479989.28]              119.0       158.0               5.0   \n",
       "(1479989.28, 1515227.12]               49.0        84.0               3.0   \n",
       "(1515227.12, 1550464.96]               34.0        65.0               2.0   \n",
       "(1550464.96, 1585702.8]                45.0        68.0               2.0   \n",
       "(1585702.8, 1620940.64]                27.0        47.0               2.0   \n",
       "(1620940.64, 1656178.48]               27.0        18.0               0.0   \n",
       "(1656178.48, 1691416.32]               26.0        31.0               1.0   \n",
       "(1691416.32, 1726654.16]               24.0        50.0               2.0   \n",
       "(1726654.16, 1761892]                  12.0        26.0               1.0   \n",
       "\n",
       "                          text_true      revenue  interactive_rate  text_rate  \n",
       "rev_bin                                                                        \n",
       "(-1761.892, 35237.84]         627.0          0.0          0.073786   0.078277  \n",
       "(35237.84, 70475.68]           40.0    5711514.0          0.084337   0.086207  \n",
       "(70475.68, 105713.52]         441.0  120889815.0          0.087236   0.091779  \n",
       "(105713.52, 140951.36]        694.0  236378359.0          0.084276   0.092386  \n",
       "(140951.36, 176189.2]         479.0  215427259.0          0.090000   0.086634  \n",
       "(176189.2, 211427.04]         377.0  193397752.0          0.087150   0.095904  \n",
       "(211427.04, 246664.88]        306.0  190877656.0          0.093298   0.093037  \n",
       "(246664.88, 281902.72]        298.0  200834164.0          0.096296   0.099599  \n",
       "(281902.72, 317140.56]        251.0  201398653.0          0.097627   0.096390  \n",
       "(317140.56, 352378.4]         213.0  206529402.0          0.089001   0.086340  \n",
       "(352378.4, 387616.24]         178.0  208549058.0          0.087227   0.076166  \n",
       "(387616.24, 422854.08]        180.0  220923277.0          0.080607   0.082949  \n",
       "(422854.08, 458091.92]        178.0  222517385.0          0.083636   0.087127  \n",
       "(458091.92, 493329.76]        151.0  221067106.0          0.085202   0.078279  \n",
       "(493329.76, 528567.6]         148.0  222203403.0          0.095238   0.082913  \n",
       "(528567.6, 563805.44]         138.0  264295081.0          0.079325   0.066474  \n",
       "(563805.44, 599043.28]        118.0  247635775.0          0.078642   0.063922  \n",
       "(599043.28, 634281.12]        128.0  255277768.0          0.079430   0.073946  \n",
       "(634281.12, 669518.96]        143.0  286608700.0          0.073123   0.080202  \n",
       "(669518.96, 704756.8]         120.0  290470048.0          0.059813   0.064034  \n",
       "(704756.8, 739994.64]          84.0  250051305.0          0.058036   0.058947  \n",
       "(739994.64, 775232.48]         98.0  277489694.0          0.052576   0.064178  \n",
       "(775232.48, 810470.32]         85.0  269548359.0          0.049661   0.054768  \n",
       "(810470.32, 845708.16]         82.0  262817306.0          0.067797   0.057544  \n",
       "(845708.16, 880946]            86.0  295115269.0          0.054289   0.056542  \n",
       "(880946, 916183.84]            77.0  283131068.0          0.067857   0.056452  \n",
       "(916183.84, 951421.68]         71.0  304677263.0          0.056404   0.050896  \n",
       "(951421.68, 986659.52]         78.0  297381403.0          0.051546   0.062102  \n",
       "(986659.52, 1021897.36]        71.0  287345708.0          0.057828   0.060477  \n",
       "(1021897.36, 1057135.2]        54.0  275813189.0          0.053221   0.049632  \n",
       "(1057135.2, 1092373.04]        53.0  283695690.0          0.037234   0.047069  \n",
       "(1092373.04, 1127610.88]       44.0  291833537.0          0.050847   0.038095  \n",
       "(1127610.88, 1162848.72]       55.0  299832433.0          0.040650   0.051020  \n",
       "(1162848.72, 1198086.56]       60.0  283196449.0          0.062701   0.060606  \n",
       "(1198086.56, 1233324.4]        17.0   58179996.0          0.044025   0.065385  \n",
       "(1233324.4, 1268562.24]         9.0   38725014.0          0.076190   0.056962  \n",
       "(1268562.24, 1303800.08]       10.0   47603849.0          0.050420   0.039683  \n",
       "(1303800.08, 1339037.92]       10.0   46176480.0          0.061947   0.055866  \n",
       "(1339037.92, 1374275.76]       11.0   48946417.0          0.033898   0.056410  \n",
       "(1374275.76, 1409513.6]         3.0   33359299.0          0.052083   0.023622  \n",
       "(1409513.6, 1444751.44]         9.0   37107856.0          0.036585   0.072000  \n",
       "(1444751.44, 1479989.28]        4.0   42395622.0          0.040323   0.024691  \n",
       "(1479989.28, 1515227.12]        3.0   19422111.0          0.057692   0.034483  \n",
       "(1515227.12, 1550464.96]        4.0   18393797.0          0.055556   0.057971  \n",
       "(1550464.96, 1585702.8]         4.0   20344564.0          0.042553   0.055556  \n",
       "(1585702.8, 1620940.64]         3.0   12822673.0          0.068966   0.060000  \n",
       "(1620940.64, 1656178.48]        3.0   11452141.0          0.000000   0.142857  \n",
       "(1656178.48, 1691416.32]        1.0   10060616.0          0.037037   0.031250  \n",
       "(1691416.32, 1726654.16]        0.0   12006810.0          0.076923   0.000000  \n",
       "(1726654.16, 1761892]           0.0    5229040.0          0.076923   0.000000  "
      ]
     },
     "execution_count": 61,
     "metadata": {},
     "output_type": "execute_result"
    }
   ],
   "source": [
    "rev_bin_response"
   ]
  },
  {
   "cell_type": "code",
   "execution_count": 62,
   "metadata": {
    "collapsed": false
   },
   "outputs": [
    {
     "data": {
      "image/png": "[encoded data removed]",
      "text/plain": [
       "<matplotlib.figure.Figure at 0x7f216dce2b70>"
      ]
     },
     "metadata": {},
     "output_type": "display_data"
    }
   ],
   "source": [
    "N = 50\n",
    "ind = np.arange(N)\n",
    "width = 0.35\n",
    "\n",
    "fig, ax = plt.subplots()\n",
    "rects1 = ax.bar(ind, rev_bin_response['interactive_false']+rev_bin_response['interactive_true'], width, color='blue', label='Interactive')\n",
    "rects2 = ax.bar(ind + width, rev_bin_response['text_false']+rev_bin_response['text_true'], width, color='green', label='Text')\n",
    "\n",
    "plt.title('Messages by Revenue Bucket: Interactive vs. Text', fontsize=12)\n",
    "plt.xlabel('Revenue Bucket')\n",
    "plt.ylabel('Number of Messages')\n",
    "#plt.ylim(0.04,0.12)\n",
    "\n",
    "plt.legend()\n",
    "plt.show()"
   ]
  },
  {
   "cell_type": "code",
   "execution_count": 63,
   "metadata": {
    "collapsed": false
   },
   "outputs": [
    {
     "data": {
      "image/png": "[encoded data removed]",
      "text/plain": [
       "<matplotlib.figure.Figure at 0x7f216d821160>"
      ]
     },
     "metadata": {},
     "output_type": "display_data"
    }
   ],
   "source": [
    "N = 50\n",
    "ind = np.arange(N)\n",
    "width = 0.35\n",
    "\n",
    "fig, ax = plt.subplots()\n",
    "rects1 = ax.bar(ind, rev_bin_response['interactive_rate'], width, color='blue', label='Interactive')\n",
    "rects2 = ax.bar(ind + width, rev_bin_response['text_rate'], width, color='green', label='Text')\n",
    "\n",
    "plt.title('Response Rates by Revenue Bucket: Interactive vs. Text', fontsize=12)\n",
    "plt.xlabel('Revenue Bucket')\n",
    "plt.ylabel('Response Rate')\n",
    "\n",
    "plt.legend()\n",
    "plt.show()"
   ]
  },
  {
   "cell_type": "code",
   "execution_count": 64,
   "metadata": {
    "collapsed": true
   },
   "outputs": [],
   "source": [
    "rev_bin_response['rev_bin_id'] = range(0,50)"
   ]
  },
  {
   "cell_type": "code",
   "execution_count": 65,
   "metadata": {
    "collapsed": true
   },
   "outputs": [],
   "source": [
    "from scipy import stats\n",
    "def r2(x,y):\n",
    "    return stats.pearsonr(x,y)[0]**2"
   ]
  },
  {
   "cell_type": "code",
   "execution_count": 66,
   "metadata": {
    "collapsed": false,
    "scrolled": false
   },
   "outputs": [
    {
     "data": {
      "image/png": "[encoded data removed]",
      "text/plain": [
       "<matplotlib.figure.Figure at 0x7f216dde2d68>"
      ]
     },
     "metadata": {},
     "output_type": "display_data"
    }
   ],
   "source": [
    "sns.jointplot(data=rev_bin_response,x='rev_bin_id',y='interactive_rate',kind='reg',stat_func=r2)\n",
    "plt.xlabel('Revenue Bucket')\n",
    "plt.ylabel('Interactive Response Rate')\n",
    "plt.show()"
   ]
  },
  {
   "cell_type": "code",
   "execution_count": 67,
   "metadata": {
    "collapsed": false
   },
   "outputs": [
    {
     "data": {
      "image/png": "[encoded data removed]",
      "text/plain": [
       "<matplotlib.figure.Figure at 0x7f216ddf0a58>"
      ]
     },
     "metadata": {},
     "output_type": "display_data"
    }
   ],
   "source": [
    "sns.jointplot(data=rev_bin_response,x='rev_bin_id',y='text_rate',kind='reg',stat_func=r2)\n",
    "plt.xlabel('Revenue Bucket')\n",
    "plt.ylabel('Text Response Rate')\n",
    "plt.show()"
   ]
  },
  {
   "cell_type": "markdown",
   "metadata": {},
   "source": [
    "<a id='methodology'></a>\n",
    "## Methodology and Takeaways\n",
    "\n",
    "The reasoning behind bucketing revenue is because each business had on average 6 total messages throughout the 12 months - this would cause the response rates to be very non-continuous in distribution.  \n",
    "\n",
    "By bucketing revenue, it is possible to get a large sample size of messages. Based on the bar chart above, it appears that **response rate decreases substantially as revenue increases** (excluding what appears to be buckets with lower sample near the very high end).  \n",
    "\n",
    "Like the breakdown by month, it appears that **Interactive messages do not provide noticeable increases in response rates**."
   ]
  },
  {
   "cell_type": "markdown",
   "metadata": {},
   "source": [
    "<a id='conclusion'></a>\n",
    "# Conclusion / Next Steps:\n",
    "Although it appears that Interactive and Text messages have similar response rates across months and across revenue buckets, there are a few additional pieces of analysis that would be interesting.\n",
    "\n",
    "With additional time, I would look into the **\"compounding effect\" of multiple messages sent to the same business (both Interactive & Text)**. Similarly, with some additional cleaning of the postal code info, it would be interesting to see if there is a geographical impact on response rates.   \n",
    "\n",
    "Lastly, although it would take additional data, I would like to understand if there is a difference between Interactive & Text messages in terms of loyalty/retention over time.  \n",
    "\n"
   ]
  }
 ],
 "metadata": {
  "anaconda-cloud": {},
  "kernelspec": {
   "display_name": "Python [default]",
   "language": "python",
   "name": "python3"
  },
  "language_info": {
   "codemirror_mode": {
    "name": "ipython",
    "version": 3
   },
   "file_extension": ".py",
   "mimetype": "text/x-python",
   "name": "python",
   "nbconvert_exporter": "python",
   "pygments_lexer": "ipython3",
   "version": "3.5.2"
  },
  "nbpresent": {
   "slides": {
    "058b06a5-c29a-4d2b-9927-a6ad6d2831c3": {
     "id": "058b06a5-c29a-4d2b-9927-a6ad6d2831c3",
     "prev": "7eb8e556-54c4-4652-9d1e-94a5c19deb4d",
     "regions": {
      "da1e52e6-c3ec-46a0-8aaa-514ebfdfacc7": {
       "attrs": {
        "height": 0.8,
        "width": 0.8,
        "x": 0.1,
        "y": 0.1
       },
       "content": {
        "cell": "d2c189a6-7334-4184-b099-eb643655f2e1",
        "part": "whole"
       },
       "id": "da1e52e6-c3ec-46a0-8aaa-514ebfdfacc7"
      }
     }
    },
    "061ae5f4-bdce-49e1-aa21-486fa99ba0ad": {
     "id": "061ae5f4-bdce-49e1-aa21-486fa99ba0ad",
     "prev": "fe632127-d2cd-49db-aa8c-98a99f52cc2c",
     "regions": {
      "4fb0f113-dccf-41ed-aa3d-085ea11ee74a": {
       "attrs": {
        "height": 0.8,
        "width": 0.8,
        "x": 0.1,
        "y": 0.1
       },
       "content": {
        "cell": "e445b9ff-67e1-4eb6-ac5e-20b444af5f5d",
        "part": "whole"
       },
       "id": "4fb0f113-dccf-41ed-aa3d-085ea11ee74a"
      }
     }
    },
    "06304931-5458-48b0-9b6b-d3e2b780466d": {
     "id": "06304931-5458-48b0-9b6b-d3e2b780466d",
     "prev": "bdc671de-1c63-4e4d-a33b-cf061a4e833f",
     "regions": {
      "b1948d7c-ab40-4d93-83ef-9a40f6073a5f": {
       "attrs": {
        "height": 0.8,
        "width": 0.8,
        "x": 0.1,
        "y": 0.1
       },
       "content": {
        "cell": "c99ec30e-0052-43ac-a341-aadb5efd6418",
        "part": "whole"
       },
       "id": "b1948d7c-ab40-4d93-83ef-9a40f6073a5f"
      }
     }
    },
    "07ff5475-0c29-4df5-b29b-e5f250180266": {
     "id": "07ff5475-0c29-4df5-b29b-e5f250180266",
     "prev": "311d50c8-bda3-4067-a581-d32e3f7a3760",
     "regions": {
      "717488b9-cda8-4151-a72d-e9a018039ee3": {
       "attrs": {
        "height": 0.8,
        "width": 0.8,
        "x": 0.1,
        "y": 0.1
       },
       "content": {
        "cell": "26319c1a-4e63-494f-950c-12fe51dc3d44",
        "part": "whole"
       },
       "id": "717488b9-cda8-4151-a72d-e9a018039ee3"
      }
     }
    },
    "16801260-8a56-4862-b05d-d7f4a8a57491": {
     "id": "16801260-8a56-4862-b05d-d7f4a8a57491",
     "prev": "f266cc8e-03e2-47fd-9b17-c9284ee35b71",
     "regions": {
      "288b3263-da78-4839-a5db-feb32babcb35": {
       "attrs": {
        "height": 0.8,
        "width": 0.8,
        "x": 0.1,
        "y": 0.1
       },
       "content": {
        "cell": "a97f8e13-30f7-4553-bf4f-15fc15ed036a",
        "part": "whole"
       },
       "id": "288b3263-da78-4839-a5db-feb32babcb35"
      }
     }
    },
    "1a671553-9581-486b-922c-57f5b00e0b36": {
     "id": "1a671553-9581-486b-922c-57f5b00e0b36",
     "prev": "460ed09c-2b65-4720-9ea2-7f471ace18d7",
     "regions": {
      "c5b524d6-c731-457e-99b6-6411d38874b8": {
       "attrs": {
        "height": 0.8,
        "width": 0.8,
        "x": 0.1,
        "y": 0.1
       },
       "content": {
        "cell": "d3804eb9-2665-4ab6-bf9f-61a095dc847d",
        "part": "whole"
       },
       "id": "c5b524d6-c731-457e-99b6-6411d38874b8"
      }
     }
    },
    "1c4d96da-d7f2-4fb5-8857-9fb784d6ef2e": {
     "id": "1c4d96da-d7f2-4fb5-8857-9fb784d6ef2e",
     "prev": "97becb43-2666-40c4-867f-939c5a488666",
     "regions": {
      "b08d1529-021d-4758-9b81-2495531d8b60": {
       "attrs": {
        "height": 0.8,
        "width": 0.8,
        "x": 0.1,
        "y": 0.1
       },
       "content": {
        "cell": "dad0e698-87eb-459a-889c-dd0b3a2656e6",
        "part": "whole"
       },
       "id": "b08d1529-021d-4758-9b81-2495531d8b60"
      }
     }
    },
    "1d8482f3-7cdb-41c3-b652-74fac0f0e700": {
     "id": "1d8482f3-7cdb-41c3-b652-74fac0f0e700",
     "prev": "5ab35755-40fc-4604-b83d-d0803738a5cc",
     "regions": {
      "95d60a32-08e1-4e6b-9a20-87fde11b7f78": {
       "attrs": {
        "height": 0.8,
        "width": 0.8,
        "x": 0.1,
        "y": 0.1
       },
       "content": {
        "cell": "9c95b2b6-b846-4fd6-aef9-af286b408a39",
        "part": "whole"
       },
       "id": "95d60a32-08e1-4e6b-9a20-87fde11b7f78"
      }
     }
    },
    "22d12c76-3024-40cf-a15d-5c36e847b204": {
     "id": "22d12c76-3024-40cf-a15d-5c36e847b204",
     "prev": "685c2033-2cf8-4f03-90a0-46a94ab33876",
     "regions": {
      "90394fd8-f03e-481b-8e81-8d5424aa304b": {
       "attrs": {
        "height": 0.8,
        "width": 0.8,
        "x": 0.1,
        "y": 0.1
       },
       "content": {
        "cell": "b5174449-6862-466f-b669-26dccc19a7f2",
        "part": "whole"
       },
       "id": "90394fd8-f03e-481b-8e81-8d5424aa304b"
      }
     }
    },
    "248349ed-9ae3-4330-9fdf-c99467e23ad4": {
     "id": "248349ed-9ae3-4330-9fdf-c99467e23ad4",
     "prev": "84b05a71-52d6-43b6-8e15-ebf9986b7e37",
     "regions": {
      "d56ce0a9-261d-40fa-8f59-02e4c4bd5325": {
       "attrs": {
        "height": 0.8,
        "width": 0.8,
        "x": 0.1,
        "y": 0.1
       },
       "content": {
        "cell": "1deeda21-4e34-408c-b10c-33067943be94",
        "part": "whole"
       },
       "id": "d56ce0a9-261d-40fa-8f59-02e4c4bd5325"
      }
     }
    },
    "2a764453-82ce-4061-a03a-82aab027b0b2": {
     "id": "2a764453-82ce-4061-a03a-82aab027b0b2",
     "prev": "cd14b853-64b7-453b-8359-d0b5f9156655",
     "regions": {
      "2513d610-980a-4685-bcca-a2e9fc7f3c0b": {
       "attrs": {
        "height": 0.8,
        "width": 0.8,
        "x": 0.1,
        "y": 0.1
       },
       "content": {
        "cell": "52184d39-8e36-4b7a-ae4d-7fdca1bddcb8",
        "part": "whole"
       },
       "id": "2513d610-980a-4685-bcca-a2e9fc7f3c0b"
      }
     }
    },
    "311d50c8-bda3-4067-a581-d32e3f7a3760": {
     "id": "311d50c8-bda3-4067-a581-d32e3f7a3760",
     "prev": "c2f40196-703b-43cd-8fbd-1ef445bf18b7",
     "regions": {
      "a69b8055-0fbe-498b-b21d-0811f90877a2": {
       "attrs": {
        "height": 0.8,
        "width": 0.8,
        "x": 0.1,
        "y": 0.1
       },
       "content": {
        "cell": "faad2fd6-7aba-47bc-862d-0250149b524c",
        "part": "whole"
       },
       "id": "a69b8055-0fbe-498b-b21d-0811f90877a2"
      }
     }
    },
    "39ec74b6-1013-4384-87f0-5c285619ee4b": {
     "id": "39ec74b6-1013-4384-87f0-5c285619ee4b",
     "prev": "6e114fce-1322-4c7f-b3ec-d097942f299d",
     "regions": {
      "1babc9e6-8e23-4f97-8afc-b18718a1fee6": {
       "attrs": {
        "height": 0.8,
        "width": 0.8,
        "x": 0.1,
        "y": 0.1
       },
       "content": {
        "cell": "595f0b11-ee0b-4df9-88e9-6dee003eeecf",
        "part": "whole"
       },
       "id": "1babc9e6-8e23-4f97-8afc-b18718a1fee6"
      }
     }
    },
    "3b67f087-ea41-4376-9ed7-731a1435e758": {
     "id": "3b67f087-ea41-4376-9ed7-731a1435e758",
     "prev": "9bd36b6c-a4ee-467b-b4df-22e4733a5419",
     "regions": {
      "c0a47c89-c56e-4c4e-9e8a-0e88a1ad13ef": {
       "attrs": {
        "height": 0.8,
        "width": 0.8,
        "x": 0.1,
        "y": 0.1
       },
       "content": {
        "cell": "3caaacf2-fb62-4e1a-9cff-595d93c68045",
        "part": "whole"
       },
       "id": "c0a47c89-c56e-4c4e-9e8a-0e88a1ad13ef"
      }
     }
    },
    "423e4607-75e2-49eb-b078-9f95a6d8d2e8": {
     "id": "423e4607-75e2-49eb-b078-9f95a6d8d2e8",
     "prev": "425ead16-de03-4050-bda2-080b42bf4103",
     "regions": {
      "e0ff7c00-6ffc-401a-9379-836af3e8361e": {
       "attrs": {
        "height": 0.8,
        "width": 0.8,
        "x": 0.1,
        "y": 0.1
       },
       "content": {
        "cell": "77304d58-585d-4e0b-94aa-08c526516ce2",
        "part": "whole"
       },
       "id": "e0ff7c00-6ffc-401a-9379-836af3e8361e"
      }
     }
    },
    "425ead16-de03-4050-bda2-080b42bf4103": {
     "id": "425ead16-de03-4050-bda2-080b42bf4103",
     "prev": "4b8c81a7-9333-4b19-9bde-33373bc5254a",
     "regions": {
      "2bf107e5-028d-4487-a594-904c1965c258": {
       "attrs": {
        "height": 0.8,
        "width": 0.8,
        "x": 0.1,
        "y": 0.1
       },
       "content": {
        "cell": "f428e623-4fc0-435a-ac9c-08d2826a57a1",
        "part": "whole"
       },
       "id": "2bf107e5-028d-4487-a594-904c1965c258"
      }
     }
    },
    "43e2ed6c-6078-4d5a-b812-de599a213418": {
     "id": "43e2ed6c-6078-4d5a-b812-de599a213418",
     "prev": "635e54f0-bf59-4dfe-8679-3566cc011798",
     "regions": {
      "d5dc6fb3-878c-4b43-bc9a-65736f71fc7b": {
       "attrs": {
        "height": 0.8,
        "width": 0.8,
        "x": 0.1,
        "y": 0.1
       },
       "content": {
        "cell": "e65de619-8c91-4869-8b4c-0a60dd58c466",
        "part": "whole"
       },
       "id": "d5dc6fb3-878c-4b43-bc9a-65736f71fc7b"
      }
     }
    },
    "44a52ae0-597c-4150-af03-9c054413c246": {
     "id": "44a52ae0-597c-4150-af03-9c054413c246",
     "prev": "67c61b2c-eeb0-403e-b8db-49c2f93b3e23",
     "regions": {
      "4a90cf9b-e4bc-4c2e-86b2-155f97a4a06f": {
       "attrs": {
        "height": 0.8,
        "width": 0.8,
        "x": 0.1,
        "y": 0.1
       },
       "content": {
        "cell": "31c598b7-dbd1-4ee2-8852-ba059646938e",
        "part": "whole"
       },
       "id": "4a90cf9b-e4bc-4c2e-86b2-155f97a4a06f"
      }
     }
    },
    "460ed09c-2b65-4720-9ea2-7f471ace18d7": {
     "id": "460ed09c-2b65-4720-9ea2-7f471ace18d7",
     "prev": "9cd3c58d-c8de-4feb-bbe8-c148e8e669f3",
     "regions": {
      "7f2c494f-2184-49ae-a9fe-3808c46cb89b": {
       "attrs": {
        "height": 0.8,
        "width": 0.8,
        "x": 0.1,
        "y": 0.1
       },
       "content": {
        "cell": "fd2fd7d3-21c0-4f7c-a467-9cb60a31567f",
        "part": "whole"
       },
       "id": "7f2c494f-2184-49ae-a9fe-3808c46cb89b"
      }
     }
    },
    "46e872e4-594b-4855-87a8-3521a4ae0436": {
     "id": "46e872e4-594b-4855-87a8-3521a4ae0436",
     "prev": "8cf17749-b45b-4d0b-a525-2e4f39bd3233",
     "regions": {
      "e8350cf7-c80c-419b-b62e-9860ddff9d7d": {
       "attrs": {
        "height": 0.8,
        "width": 0.8,
        "x": 0.1,
        "y": 0.1
       },
       "content": {
        "cell": "6701f246-eeae-4f22-a471-6b00fe36777e",
        "part": "whole"
       },
       "id": "e8350cf7-c80c-419b-b62e-9860ddff9d7d"
      }
     }
    },
    "49ff145d-0c18-403e-b7d3-88e163aa205e": {
     "id": "49ff145d-0c18-403e-b7d3-88e163aa205e",
     "prev": "df35d0c7-8448-4ec4-95fe-e4037e4868ce",
     "regions": {
      "b8c834c4-cd92-4c9c-a392-3c685974c479": {
       "attrs": {
        "height": 0.8,
        "width": 0.8,
        "x": 0.1,
        "y": 0.1
       },
       "content": {
        "cell": "26b44b17-81cf-4967-8edb-e3dfc39e2f12",
        "part": "whole"
       },
       "id": "b8c834c4-cd92-4c9c-a392-3c685974c479"
      }
     }
    },
    "4b8c81a7-9333-4b19-9bde-33373bc5254a": {
     "id": "4b8c81a7-9333-4b19-9bde-33373bc5254a",
     "prev": "07ff5475-0c29-4df5-b29b-e5f250180266",
     "regions": {
      "aaaf78fa-7500-4dc7-ae28-17b477b568fb": {
       "attrs": {
        "height": 0.8,
        "width": 0.8,
        "x": 0.1,
        "y": 0.1
       },
       "content": {
        "cell": "5c6916e1-f833-4ae1-91ef-44fb2e0d3a75",
        "part": "whole"
       },
       "id": "aaaf78fa-7500-4dc7-ae28-17b477b568fb"
      }
     }
    },
    "543969e8-eca9-4096-b881-8efbf73b7a6c": {
     "id": "543969e8-eca9-4096-b881-8efbf73b7a6c",
     "prev": "a8fdb3d5-e5ea-4ebb-9c94-823657a91f2c",
     "regions": {
      "2e5aeb4d-49dd-48b0-a6ba-71c87a9cba02": {
       "attrs": {
        "height": 0.8,
        "width": 0.8,
        "x": 0.1,
        "y": 0.1
       },
       "content": {
        "cell": "dd51f98e-4aa4-4b97-b552-f8c4ebe6226a",
        "part": "whole"
       },
       "id": "2e5aeb4d-49dd-48b0-a6ba-71c87a9cba02"
      }
     }
    },
    "589f92b3-c0b7-4303-b99a-0131e0232aaf": {
     "id": "589f92b3-c0b7-4303-b99a-0131e0232aaf",
     "prev": "1a671553-9581-486b-922c-57f5b00e0b36",
     "regions": {
      "931ea2cc-0f57-429d-8354-db982bd2b77f": {
       "attrs": {
        "height": 0.8,
        "width": 0.8,
        "x": 0.1,
        "y": 0.1
       },
       "content": {
        "cell": "621d9ebf-91b6-45a5-9cb5-7c8ed505ff67",
        "part": "whole"
       },
       "id": "931ea2cc-0f57-429d-8354-db982bd2b77f"
      }
     }
    },
    "5a955caf-6af4-4754-992a-97d504310705": {
     "id": "5a955caf-6af4-4754-992a-97d504310705",
     "prev": "fba5576d-8654-4c94-8315-ce6c64c7acb4",
     "regions": {
      "47b5fedd-194d-41c9-b3b4-9a8911457b6f": {
       "attrs": {
        "height": 0.8,
        "width": 0.8,
        "x": 0.1,
        "y": 0.1
       },
       "content": {
        "cell": "9c6bebf6-7933-4cd3-8792-1a3fff1ea13c",
        "part": "whole"
       },
       "id": "47b5fedd-194d-41c9-b3b4-9a8911457b6f"
      }
     }
    },
    "5ab35755-40fc-4604-b83d-d0803738a5cc": {
     "id": "5ab35755-40fc-4604-b83d-d0803738a5cc",
     "prev": "bab39c8a-2287-47ff-80f4-3b8da6b6c40f",
     "regions": {
      "d0428a4d-2677-405c-a9ca-48568df8f4da": {
       "attrs": {
        "height": 0.8,
        "width": 0.8,
        "x": 0.1,
        "y": 0.1
       },
       "content": {
        "cell": "ca26420b-98f6-4ea1-a57e-00eaaef28fd7",
        "part": "whole"
       },
       "id": "d0428a4d-2677-405c-a9ca-48568df8f4da"
      }
     }
    },
    "5d572255-5e31-4849-b2c9-52d840a88294": {
     "id": "5d572255-5e31-4849-b2c9-52d840a88294",
     "prev": "bd4ab077-9c4d-4623-a741-9f44ceee3748",
     "regions": {
      "4e7a734e-f0bd-4bc2-aa85-68ffd8ada22b": {
       "attrs": {
        "height": 0.8,
        "width": 0.8,
        "x": 0.1,
        "y": 0.1
       },
       "content": {
        "cell": "c93db341-2893-4211-bcbf-a85aa624ebe6",
        "part": "whole"
       },
       "id": "4e7a734e-f0bd-4bc2-aa85-68ffd8ada22b"
      }
     }
    },
    "635e54f0-bf59-4dfe-8679-3566cc011798": {
     "id": "635e54f0-bf59-4dfe-8679-3566cc011798",
     "prev": "9b4cf213-e41f-4b1d-978e-a686213a8224",
     "regions": {
      "a8ccd47a-a5bb-4fbf-a304-96b7166c174f": {
       "attrs": {
        "height": 0.8,
        "width": 0.8,
        "x": 0.1,
        "y": 0.1
       },
       "content": {
        "cell": "d6048e8e-0a15-4943-8142-a4f9f4631854",
        "part": "whole"
       },
       "id": "a8ccd47a-a5bb-4fbf-a304-96b7166c174f"
      }
     }
    },
    "65762104-2718-4767-af9c-249d3ac7939a": {
     "id": "65762104-2718-4767-af9c-249d3ac7939a",
     "prev": "fa4e02f2-defa-401f-a06a-14e551dbfb12",
     "regions": {
      "3da6297c-4f2b-4f16-8d9a-bd2cf1c2093c": {
       "attrs": {
        "height": 0.8,
        "width": 0.8,
        "x": 0.1,
        "y": 0.1
       },
       "content": {
        "cell": "c15a0892-e132-46e2-af94-0a12fa38f788",
        "part": "whole"
       },
       "id": "3da6297c-4f2b-4f16-8d9a-bd2cf1c2093c"
      }
     }
    },
    "67c61b2c-eeb0-403e-b8db-49c2f93b3e23": {
     "id": "67c61b2c-eeb0-403e-b8db-49c2f93b3e23",
     "prev": "5a955caf-6af4-4754-992a-97d504310705",
     "regions": {
      "9e1c1ffd-03bb-4239-91af-c4e50069206a": {
       "attrs": {
        "height": 0.8,
        "width": 0.8,
        "x": 0.1,
        "y": 0.1
       },
       "content": {
        "cell": "2cff0ed2-e6ae-4f80-81f1-889d19c7dbbe",
        "part": "whole"
       },
       "id": "9e1c1ffd-03bb-4239-91af-c4e50069206a"
      }
     }
    },
    "6800829a-cff6-4f31-8dac-cf369cc360b2": {
     "id": "6800829a-cff6-4f31-8dac-cf369cc360b2",
     "prev": "c05b4de5-090c-4c0e-aa8d-08c026ff1c9f",
     "regions": {
      "e4f37fde-1cef-4579-a9fb-59895b44c416": {
       "attrs": {
        "height": 0.8,
        "width": 0.8,
        "x": 0.1,
        "y": 0.1
       },
       "content": {
        "cell": "e3b8d1a5-ab0b-467f-9e1c-9f4573c1eeae",
        "part": "whole"
       },
       "id": "e4f37fde-1cef-4579-a9fb-59895b44c416"
      }
     }
    },
    "685c2033-2cf8-4f03-90a0-46a94ab33876": {
     "id": "685c2033-2cf8-4f03-90a0-46a94ab33876",
     "prev": "f4f026f0-93f6-495a-a7a3-0c515bab80e3",
     "regions": {
      "1c746213-306d-4359-8b98-dfcffdb6e5ea": {
       "attrs": {
        "height": 0.8,
        "width": 0.8,
        "x": 0.1,
        "y": 0.1
       },
       "content": {
        "cell": "f6d60e84-b6ce-440c-bf07-9f25dbc4471e",
        "part": "whole"
       },
       "id": "1c746213-306d-4359-8b98-dfcffdb6e5ea"
      }
     }
    },
    "6e114fce-1322-4c7f-b3ec-d097942f299d": {
     "id": "6e114fce-1322-4c7f-b3ec-d097942f299d",
     "prev": "d3e1e425-6dee-4e19-8af9-ef3d0047922d",
     "regions": {
      "43a05030-80f8-403b-a89c-de94cdc64973": {
       "attrs": {
        "height": 0.8,
        "width": 0.8,
        "x": 0.1,
        "y": 0.1
       },
       "content": {
        "cell": "319675e6-8bdf-4999-9b04-23bea98c7684",
        "part": "whole"
       },
       "id": "43a05030-80f8-403b-a89c-de94cdc64973"
      }
     }
    },
    "6e86f664-e6d9-4a59-b554-288fe732b0e5": {
     "id": "6e86f664-e6d9-4a59-b554-288fe732b0e5",
     "prev": null,
     "regions": {
      "40428729-08dd-4543-aa2e-814e62947461": {
       "attrs": {
        "height": 0.8,
        "width": 0.8,
        "x": 0.1,
        "y": 0.1
       },
       "content": {
        "cell": "54b898b7-a4c9-46d7-b7c6-b06342e4fb2d",
        "part": "whole"
       },
       "id": "40428729-08dd-4543-aa2e-814e62947461"
      }
     }
    },
    "7533d0af-8d1f-4094-8c9e-4f426ae32173": {
     "id": "7533d0af-8d1f-4094-8c9e-4f426ae32173",
     "prev": "6800829a-cff6-4f31-8dac-cf369cc360b2",
     "regions": {
      "ae600b1f-1634-4436-b22a-e1c863ee8f48": {
       "attrs": {
        "height": 0.8,
        "width": 0.8,
        "x": 0.1,
        "y": 0.1
       },
       "content": {
        "cell": "fd3abbba-8f7b-4630-b1ca-8e312a04115b",
        "part": "whole"
       },
       "id": "ae600b1f-1634-4436-b22a-e1c863ee8f48"
      }
     }
    },
    "7b562935-2cec-4ed8-9d92-086bada8e5d1": {
     "id": "7b562935-2cec-4ed8-9d92-086bada8e5d1",
     "prev": "91843360-2ded-4742-86a1-c76ae2065ac0",
     "regions": {
      "f5c7a497-a3b1-442a-b3c7-da4031359c20": {
       "attrs": {
        "height": 0.8,
        "width": 0.8,
        "x": 0.1,
        "y": 0.1
       },
       "content": {
        "cell": "229161ca-7011-4c10-b6d1-882e82abc7bc",
        "part": "whole"
       },
       "id": "f5c7a497-a3b1-442a-b3c7-da4031359c20"
      }
     }
    },
    "7eb8e556-54c4-4652-9d1e-94a5c19deb4d": {
     "id": "7eb8e556-54c4-4652-9d1e-94a5c19deb4d",
     "prev": "d4e98cbb-4b8e-4929-9dcc-b65e65079fcb",
     "regions": {
      "8c0c6785-b70f-44aa-be35-1ce8691d7f43": {
       "attrs": {
        "height": 0.8,
        "width": 0.8,
        "x": 0.1,
        "y": 0.1
       },
       "content": {
        "cell": "02204f32-f902-4ba5-b1d6-f8c420c11c63",
        "part": "whole"
       },
       "id": "8c0c6785-b70f-44aa-be35-1ce8691d7f43"
      }
     }
    },
    "83561c68-2231-4c45-b5f4-79548c79a6bb": {
     "id": "83561c68-2231-4c45-b5f4-79548c79a6bb",
     "prev": "061ae5f4-bdce-49e1-aa21-486fa99ba0ad",
     "regions": {
      "70db4f9b-1b11-4456-a1e9-5021a610177e": {
       "attrs": {
        "height": 0.8,
        "width": 0.8,
        "x": 0.1,
        "y": 0.1
       },
       "content": {
        "cell": "c431edfa-3173-4641-a162-23c8d2f3564a",
        "part": "whole"
       },
       "id": "70db4f9b-1b11-4456-a1e9-5021a610177e"
      }
     }
    },
    "83ada79e-197b-4ccc-8248-6210a80e4374": {
     "id": "83ada79e-197b-4ccc-8248-6210a80e4374",
     "prev": "248349ed-9ae3-4330-9fdf-c99467e23ad4",
     "regions": {
      "2d835983-3d63-41c9-9301-e12c0815b8d2": {
       "attrs": {
        "height": 0.8,
        "width": 0.8,
        "x": 0.1,
        "y": 0.1
       },
       "content": {
        "cell": "1dacc3d3-313c-4492-afe1-079a59d01298",
        "part": "whole"
       },
       "id": "2d835983-3d63-41c9-9301-e12c0815b8d2"
      }
     }
    },
    "84b05a71-52d6-43b6-8e15-ebf9986b7e37": {
     "id": "84b05a71-52d6-43b6-8e15-ebf9986b7e37",
     "prev": "7533d0af-8d1f-4094-8c9e-4f426ae32173",
     "regions": {
      "6f17f8b5-1dff-43ab-9338-d4f37a3c1a71": {
       "attrs": {
        "height": 0.8,
        "width": 0.8,
        "x": 0.1,
        "y": 0.1
       },
       "content": {
        "cell": "eeea6a40-2c2d-4aee-9db6-9175743b5e52",
        "part": "whole"
       },
       "id": "6f17f8b5-1dff-43ab-9338-d4f37a3c1a71"
      }
     }
    },
    "8cf17749-b45b-4d0b-a525-2e4f39bd3233": {
     "id": "8cf17749-b45b-4d0b-a525-2e4f39bd3233",
     "prev": "83561c68-2231-4c45-b5f4-79548c79a6bb",
     "regions": {
      "afd36405-0349-4d32-a9d5-cbe50e0b5085": {
       "attrs": {
        "height": 0.8,
        "width": 0.8,
        "x": 0.1,
        "y": 0.1
       },
       "content": {
        "cell": "fd9949e2-4816-4dec-85c1-ec0a6f58b3c9",
        "part": "whole"
       },
       "id": "afd36405-0349-4d32-a9d5-cbe50e0b5085"
      }
     }
    },
    "91843360-2ded-4742-86a1-c76ae2065ac0": {
     "id": "91843360-2ded-4742-86a1-c76ae2065ac0",
     "prev": "c5b88935-a54f-4496-a04d-8ab0879d9e13",
     "regions": {
      "9a4f1aea-139d-426d-99f8-995fa72abfa3": {
       "attrs": {
        "height": 0.8,
        "width": 0.8,
        "x": 0.1,
        "y": 0.1
       },
       "content": {
        "cell": "243bd971-4cfc-4fa7-aa2d-76d1ef60681d",
        "part": "whole"
       },
       "id": "9a4f1aea-139d-426d-99f8-995fa72abfa3"
      }
     }
    },
    "93e43dd8-9c43-4dc4-867a-1a8597d040d7": {
     "id": "93e43dd8-9c43-4dc4-867a-1a8597d040d7",
     "prev": "06304931-5458-48b0-9b6b-d3e2b780466d",
     "regions": {
      "a25427a9-7563-4070-9d8a-63c0ab18b91d": {
       "attrs": {
        "height": 0.8,
        "width": 0.8,
        "x": 0.1,
        "y": 0.1
       },
       "content": {
        "cell": "d91cbca9-e662-4bf2-87a3-9f9c16016f6f",
        "part": "whole"
       },
       "id": "a25427a9-7563-4070-9d8a-63c0ab18b91d"
      }
     }
    },
    "97becb43-2666-40c4-867f-939c5a488666": {
     "id": "97becb43-2666-40c4-867f-939c5a488666",
     "prev": "93e43dd8-9c43-4dc4-867a-1a8597d040d7",
     "regions": {
      "c9866ae8-9a10-49ef-9cd5-f84a6a9af288": {
       "attrs": {
        "height": 0.8,
        "width": 0.8,
        "x": 0.1,
        "y": 0.1
       },
       "content": {
        "cell": "7af3dd64-69f4-413b-85ac-07850b508c06",
        "part": "whole"
       },
       "id": "c9866ae8-9a10-49ef-9cd5-f84a6a9af288"
      }
     }
    },
    "9b4cf213-e41f-4b1d-978e-a686213a8224": {
     "id": "9b4cf213-e41f-4b1d-978e-a686213a8224",
     "prev": "44a52ae0-597c-4150-af03-9c054413c246",
     "regions": {
      "b84639ee-c34c-4c1e-a33c-157d06506817": {
       "attrs": {
        "height": 0.8,
        "width": 0.8,
        "x": 0.1,
        "y": 0.1
       },
       "content": {
        "cell": "14c6fae7-bae8-40d8-a263-234a385a3f36",
        "part": "whole"
       },
       "id": "b84639ee-c34c-4c1e-a33c-157d06506817"
      }
     }
    },
    "9bd36b6c-a4ee-467b-b4df-22e4733a5419": {
     "id": "9bd36b6c-a4ee-467b-b4df-22e4733a5419",
     "prev": "22d12c76-3024-40cf-a15d-5c36e847b204",
     "regions": {
      "c08bb452-7090-4e00-8043-b46f14cea073": {
       "attrs": {
        "height": 0.8,
        "width": 0.8,
        "x": 0.1,
        "y": 0.1
       },
       "content": {
        "cell": "de772435-8a72-4f6a-9c40-11a02a9dc3aa",
        "part": "whole"
       },
       "id": "c08bb452-7090-4e00-8043-b46f14cea073"
      }
     }
    },
    "9cd3c58d-c8de-4feb-bbe8-c148e8e669f3": {
     "id": "9cd3c58d-c8de-4feb-bbe8-c148e8e669f3",
     "prev": "423e4607-75e2-49eb-b078-9f95a6d8d2e8",
     "regions": {
      "fa54c640-a64d-40ab-825a-89ff6a2f086b": {
       "attrs": {
        "height": 0.8,
        "width": 0.8,
        "x": 0.1,
        "y": 0.1
       },
       "content": {
        "cell": "f11e38f3-8ba7-4b6e-b1b7-30c92c195f65",
        "part": "whole"
       },
       "id": "fa54c640-a64d-40ab-825a-89ff6a2f086b"
      }
     }
    },
    "9d8fd083-7dd6-44dd-8076-39abf87d6e97": {
     "id": "9d8fd083-7dd6-44dd-8076-39abf87d6e97",
     "prev": "589f92b3-c0b7-4303-b99a-0131e0232aaf",
     "regions": {
      "5d013af7-c618-428a-9f55-84e676b0bce8": {
       "attrs": {
        "height": 0.8,
        "width": 0.8,
        "x": 0.1,
        "y": 0.1
       },
       "content": {
        "cell": "b69269f3-1ede-4270-abe7-5cf1a32aa595",
        "part": "whole"
       },
       "id": "5d013af7-c618-428a-9f55-84e676b0bce8"
      }
     }
    },
    "a8fdb3d5-e5ea-4ebb-9c94-823657a91f2c": {
     "id": "a8fdb3d5-e5ea-4ebb-9c94-823657a91f2c",
     "prev": "46e872e4-594b-4855-87a8-3521a4ae0436",
     "regions": {
      "fbcbfde2-c889-4863-b89d-3f34b48dcc5d": {
       "attrs": {
        "height": 0.8,
        "width": 0.8,
        "x": 0.1,
        "y": 0.1
       },
       "content": {
        "cell": "5b33cdd2-904d-4b11-8415-dbfa6009bc0a",
        "part": "whole"
       },
       "id": "fbcbfde2-c889-4863-b89d-3f34b48dcc5d"
      }
     }
    },
    "bab39c8a-2287-47ff-80f4-3b8da6b6c40f": {
     "id": "bab39c8a-2287-47ff-80f4-3b8da6b6c40f",
     "prev": "7b562935-2cec-4ed8-9d92-086bada8e5d1",
     "regions": {
      "871ff5fc-d8f5-4d21-aa89-78af4e38c2f0": {
       "attrs": {
        "height": 0.8,
        "width": 0.8,
        "x": 0.1,
        "y": 0.1
       },
       "content": {
        "cell": "d560d3f2-b461-4b89-bae8-f67b7411067d",
        "part": "whole"
       },
       "id": "871ff5fc-d8f5-4d21-aa89-78af4e38c2f0"
      }
     }
    },
    "bd4ab077-9c4d-4623-a741-9f44ceee3748": {
     "id": "bd4ab077-9c4d-4623-a741-9f44ceee3748",
     "prev": "49ff145d-0c18-403e-b7d3-88e163aa205e",
     "regions": {
      "15876826-6cdd-413f-8dca-6956894530da": {
       "attrs": {
        "height": 0.8,
        "width": 0.8,
        "x": 0.1,
        "y": 0.1
       },
       "content": {
        "cell": "8cf5b9e7-0adf-4c80-a368-83664d9a5d10",
        "part": "whole"
       },
       "id": "15876826-6cdd-413f-8dca-6956894530da"
      }
     }
    },
    "bdc671de-1c63-4e4d-a33b-cf061a4e833f": {
     "id": "bdc671de-1c63-4e4d-a33b-cf061a4e833f",
     "prev": "058b06a5-c29a-4d2b-9927-a6ad6d2831c3",
     "regions": {
      "14be44d7-274e-4cf1-8394-afb1c81c0a1f": {
       "attrs": {
        "height": 0.8,
        "width": 0.8,
        "x": 0.1,
        "y": 0.1
       },
       "content": {
        "cell": "a818fda3-83fb-410a-ae49-4094a1d87a8f",
        "part": "whole"
       },
       "id": "14be44d7-274e-4cf1-8394-afb1c81c0a1f"
      }
     }
    },
    "c05b4de5-090c-4c0e-aa8d-08c026ff1c9f": {
     "id": "c05b4de5-090c-4c0e-aa8d-08c026ff1c9f",
     "prev": "e4fdaf94-595c-4558-ba72-3abc80f59a6a",
     "regions": {
      "42028638-ebf8-4d08-83da-1d13910e400d": {
       "attrs": {
        "height": 0.8,
        "width": 0.8,
        "x": 0.1,
        "y": 0.1
       },
       "content": {
        "cell": "eee44668-e33f-4328-9fbd-f39660747345",
        "part": "whole"
       },
       "id": "42028638-ebf8-4d08-83da-1d13910e400d"
      }
     }
    },
    "c2f40196-703b-43cd-8fbd-1ef445bf18b7": {
     "id": "c2f40196-703b-43cd-8fbd-1ef445bf18b7",
     "prev": "ed728a23-fbd2-48fd-ac17-0d82969cf6ad",
     "regions": {
      "78e0e12f-5444-43af-8a4a-6c8d7b72b40e": {
       "attrs": {
        "height": 0.8,
        "width": 0.8,
        "x": 0.1,
        "y": 0.1
       },
       "content": {
        "cell": "74918f19-94b6-4f82-a1bf-48987b0fb262",
        "part": "whole"
       },
       "id": "78e0e12f-5444-43af-8a4a-6c8d7b72b40e"
      }
     }
    },
    "c5b88935-a54f-4496-a04d-8ab0879d9e13": {
     "id": "c5b88935-a54f-4496-a04d-8ab0879d9e13",
     "prev": "3b67f087-ea41-4376-9ed7-731a1435e758",
     "regions": {
      "f8c438ec-e35d-4ae9-93b9-a628f876a78a": {
       "attrs": {
        "height": 0.8,
        "width": 0.8,
        "x": 0.1,
        "y": 0.1
       },
       "content": {
        "cell": "8b802609-0cbc-4a34-a6a0-0551a31a4653",
        "part": "whole"
       },
       "id": "f8c438ec-e35d-4ae9-93b9-a628f876a78a"
      }
     }
    },
    "cd14b853-64b7-453b-8359-d0b5f9156655": {
     "id": "cd14b853-64b7-453b-8359-d0b5f9156655",
     "prev": "1c4d96da-d7f2-4fb5-8857-9fb784d6ef2e",
     "regions": {
      "33b1d5ad-2eca-4fbd-9c6e-dc7bc1548a74": {
       "attrs": {
        "height": 0.8,
        "width": 0.8,
        "x": 0.1,
        "y": 0.1
       },
       "content": {
        "cell": "ca678efd-4fed-4949-abb9-7a2cdc416370",
        "part": "whole"
       },
       "id": "33b1d5ad-2eca-4fbd-9c6e-dc7bc1548a74"
      }
     }
    },
    "d3e1e425-6dee-4e19-8af9-ef3d0047922d": {
     "id": "d3e1e425-6dee-4e19-8af9-ef3d0047922d",
     "prev": "5d572255-5e31-4849-b2c9-52d840a88294",
     "regions": {
      "4324fd03-fc98-4c56-a6b9-6ddabc65e44f": {
       "attrs": {
        "height": 0.8,
        "width": 0.8,
        "x": 0.1,
        "y": 0.1
       },
       "content": {
        "cell": "cce0289c-b6f3-4685-b894-88b8f823a1c3",
        "part": "whole"
       },
       "id": "4324fd03-fc98-4c56-a6b9-6ddabc65e44f"
      }
     }
    },
    "d4e98cbb-4b8e-4929-9dcc-b65e65079fcb": {
     "id": "d4e98cbb-4b8e-4929-9dcc-b65e65079fcb",
     "prev": "83ada79e-197b-4ccc-8248-6210a80e4374",
     "regions": {
      "97207617-c7ea-459e-b922-3f3e24b03441": {
       "attrs": {
        "height": 0.8,
        "width": 0.8,
        "x": 0.1,
        "y": 0.1
       },
       "content": {
        "cell": "18f6b272-973c-4a73-bbf9-10934468cf64",
        "part": "whole"
       },
       "id": "97207617-c7ea-459e-b922-3f3e24b03441"
      }
     }
    },
    "df35d0c7-8448-4ec4-95fe-e4037e4868ce": {
     "id": "df35d0c7-8448-4ec4-95fe-e4037e4868ce",
     "prev": "16801260-8a56-4862-b05d-d7f4a8a57491",
     "regions": {
      "1a24d59c-9c29-4197-906c-572fbe1a3683": {
       "attrs": {
        "height": 0.8,
        "width": 0.8,
        "x": 0.1,
        "y": 0.1
       },
       "content": {
        "cell": "4d24ef84-8d64-4e9e-9b14-3e38630ed98f",
        "part": "whole"
       },
       "id": "1a24d59c-9c29-4197-906c-572fbe1a3683"
      }
     }
    },
    "e4fdaf94-595c-4558-ba72-3abc80f59a6a": {
     "id": "e4fdaf94-595c-4558-ba72-3abc80f59a6a",
     "prev": "43e2ed6c-6078-4d5a-b812-de599a213418",
     "regions": {
      "2db94fc4-6053-4e0b-b8f9-5a5c239c2694": {
       "attrs": {
        "height": 0.8,
        "width": 0.8,
        "x": 0.1,
        "y": 0.1
       },
       "content": {
        "cell": "e748e304-6cf0-49f1-82df-d2ffc135aeb1",
        "part": "whole"
       },
       "id": "2db94fc4-6053-4e0b-b8f9-5a5c239c2694"
      }
     }
    },
    "ed728a23-fbd2-48fd-ac17-0d82969cf6ad": {
     "id": "ed728a23-fbd2-48fd-ac17-0d82969cf6ad",
     "prev": "1d8482f3-7cdb-41c3-b652-74fac0f0e700",
     "regions": {
      "c9fd59dd-9ccf-4de1-98bf-d713437676bd": {
       "attrs": {
        "height": 0.8,
        "width": 0.8,
        "x": 0.1,
        "y": 0.1
       },
       "content": {
        "cell": "27b28c76-17e0-4609-a1d0-d95af7e1135b",
        "part": "whole"
       },
       "id": "c9fd59dd-9ccf-4de1-98bf-d713437676bd"
      }
     }
    },
    "f266cc8e-03e2-47fd-9b17-c9284ee35b71": {
     "id": "f266cc8e-03e2-47fd-9b17-c9284ee35b71",
     "prev": "65762104-2718-4767-af9c-249d3ac7939a",
     "regions": {
      "8443d5a4-008a-4f9f-9ba9-0a62662bcee7": {
       "attrs": {
        "height": 0.8,
        "width": 0.8,
        "x": 0.1,
        "y": 0.1
       },
       "content": {
        "cell": "ca4f8437-ebcc-426d-af93-e0775290930f",
        "part": "whole"
       },
       "id": "8443d5a4-008a-4f9f-9ba9-0a62662bcee7"
      }
     }
    },
    "f4f026f0-93f6-495a-a7a3-0c515bab80e3": {
     "id": "f4f026f0-93f6-495a-a7a3-0c515bab80e3",
     "prev": "6e86f664-e6d9-4a59-b554-288fe732b0e5",
     "regions": {
      "cda8ba7e-9ffd-4637-ad04-b0921f1c96f6": {
       "attrs": {
        "height": 0.8,
        "width": 0.8,
        "x": 0.1,
        "y": 0.1
       },
       "content": {
        "cell": "04c8b11c-cce5-4bd1-afe8-39c9b69f1e5d",
        "part": "whole"
       },
       "id": "cda8ba7e-9ffd-4637-ad04-b0921f1c96f6"
      }
     }
    },
    "fa4e02f2-defa-401f-a06a-14e551dbfb12": {
     "id": "fa4e02f2-defa-401f-a06a-14e551dbfb12",
     "prev": "9d8fd083-7dd6-44dd-8076-39abf87d6e97",
     "regions": {
      "a566952a-aa1d-4298-9be6-ea3e1e043d92": {
       "attrs": {
        "height": 0.8,
        "width": 0.8,
        "x": 0.1,
        "y": 0.1
       },
       "content": {
        "cell": "a6a0bddc-2ddd-4750-a602-3c6011407113",
        "part": "whole"
       },
       "id": "a566952a-aa1d-4298-9be6-ea3e1e043d92"
      }
     }
    },
    "fba5576d-8654-4c94-8315-ce6c64c7acb4": {
     "id": "fba5576d-8654-4c94-8315-ce6c64c7acb4",
     "prev": "543969e8-eca9-4096-b881-8efbf73b7a6c",
     "regions": {
      "702a522a-9665-4bf8-88fe-abfe4fee2e71": {
       "attrs": {
        "height": 0.8,
        "width": 0.8,
        "x": 0.1,
        "y": 0.1
       },
       "content": {
        "cell": "a2763bbb-66cd-4bd2-989c-52a47f97a789",
        "part": "whole"
       },
       "id": "702a522a-9665-4bf8-88fe-abfe4fee2e71"
      }
     }
    },
    "fe632127-d2cd-49db-aa8c-98a99f52cc2c": {
     "id": "fe632127-d2cd-49db-aa8c-98a99f52cc2c",
     "prev": "39ec74b6-1013-4384-87f0-5c285619ee4b",
     "regions": {
      "44245ee1-78f7-400e-81e2-e19ca664b523": {
       "attrs": {
        "height": 0.8,
        "width": 0.8,
        "x": 0.1,
        "y": 0.1
       },
       "content": {
        "cell": "6ae52751-7c2c-4e2f-8901-6155602585c1",
        "part": "whole"
       },
       "id": "44245ee1-78f7-400e-81e2-e19ca664b523"
      }
     }
    }
   },
   "themes": {}
  }
 },
 "nbformat": 4,
 "nbformat_minor": 1
}
